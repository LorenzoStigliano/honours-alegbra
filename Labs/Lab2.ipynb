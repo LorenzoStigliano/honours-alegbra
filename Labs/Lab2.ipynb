{
 "cells": [
  {
   "cell_type": "markdown",
   "metadata": {},
   "source": [
    "# Lab 2: Modular arithmetic and Diffie-Hellman Key Exchange"
   ]
  },
  {
   "cell_type": "markdown",
   "metadata": {},
   "source": [
    "In this lab we will be using modular arithmetic, and looking at a particular application (Diffie-Hellman Key Exchange) which is an important part of the foundations of secure communications on the internet.\n",
    "\n",
    "## 1. Modular arithmetic in Sage\n",
    "\n",
    "Recall that with modular arithmetic, we work with a finite set of numbers and do arithmetic \"modulo\" or \"mod\" a chosen number. For instance working \"mod 11\", we use the numbers\n",
    "\n",
    "$$[0, 1, 2, 3, 4, 5, 6, 7, 8, 9, 10]$$\n",
    "\n",
    "since these are the possible remainders we get when dividing whole numbers by 11. We can do addition and multiplication with these numbers, e.g.:\n",
    "\n",
    "* $7 + 9 = 16 \\equiv 5 \\mod 11$,\n",
    "* $3\\times4 = 12 \\equiv 1 \\mod 11$.\n",
    "\n",
    "We can use Sage for modular arithmetic:"
   ]
  },
  {
   "cell_type": "code",
   "execution_count": 3,
   "metadata": {},
   "outputs": [
    {
     "data": {
      "text/plain": [
       "1"
      ]
     },
     "execution_count": 3,
     "metadata": {},
     "output_type": "execute_result"
    }
   ],
   "source": [
    "g = mod(2, 11)"
   ]
  },
  {
   "cell_type": "markdown",
   "metadata": {},
   "source": [
    "This tells Sage to think of $2$ as a number \"$\\text{mod } 11$\" and therefore use modular arithmetic to do calculations with it:"
   ]
  },
  {
   "cell_type": "code",
   "execution_count": 2,
   "metadata": {},
   "outputs": [
    {
     "data": {
      "text/plain": [
       "[2, 4, 8, 5, 10, 9, 7, 3, 6, 1, 2, 4, 8, 5, 10, 9, 7, 3, 6, 1]"
      ]
     },
     "execution_count": 2,
     "metadata": {},
     "output_type": "execute_result"
    }
   ],
   "source": [
    "[g^k for k in [1..20]]"
   ]
  },
  {
   "cell_type": "markdown",
   "metadata": {},
   "source": [
    "<span class=\"label label-danger\">Task</span> What patterns do you see in this list? Can you explain them?\n",
    "\n",
    "Notice what happens if instead we _don't_ specify that $2$ should be thought of as a number $\\text{mod } 11$:"
   ]
  },
  {
   "cell_type": "code",
   "execution_count": 3,
   "metadata": {},
   "outputs": [
    {
     "data": {
      "text/plain": [
       "[2,\n",
       " 4,\n",
       " 8,\n",
       " 16,\n",
       " 32,\n",
       " 64,\n",
       " 128,\n",
       " 256,\n",
       " 512,\n",
       " 1024,\n",
       " 2048,\n",
       " 4096,\n",
       " 8192,\n",
       " 16384,\n",
       " 32768,\n",
       " 65536,\n",
       " 131072,\n",
       " 262144,\n",
       " 524288,\n",
       " 1048576]"
      ]
     },
     "execution_count": 3,
     "metadata": {},
     "output_type": "execute_result"
    }
   ],
   "source": [
    "g = 2\n",
    "[g^k for k in [1..20]]"
   ]
  },
  {
   "cell_type": "markdown",
   "metadata": {},
   "source": [
    "We can check that in each case, `g` is a different type of object -- it belongs to a different set with different mathematical properties:"
   ]
  },
  {
   "cell_type": "code",
   "execution_count": 4,
   "metadata": {},
   "outputs": [
    {
     "data": {
      "text/plain": [
       "Ring of integers modulo 11"
      ]
     },
     "execution_count": 4,
     "metadata": {},
     "output_type": "execute_result"
    }
   ],
   "source": [
    "g = mod(2, 11)\n",
    "g.parent()"
   ]
  },
  {
   "cell_type": "code",
   "execution_count": 5,
   "metadata": {},
   "outputs": [
    {
     "data": {
      "text/plain": [
       "Integer Ring"
      ]
     },
     "execution_count": 5,
     "metadata": {},
     "output_type": "execute_result"
    }
   ],
   "source": [
    "g = 2\n",
    "g.parent()"
   ]
  },
  {
   "cell_type": "markdown",
   "metadata": {},
   "source": [
    "Notice the word **\"ring\"**, which will make more sense once you reach Chapter 3 in the lecture notes!"
   ]
  },
  {
   "cell_type": "markdown",
   "metadata": {},
   "source": [
    "<div class=\"alert alert-info\">\n",
    "    <h3>Exercise 1.1</h3>\n",
    "\n",
    "(a) Use Sage to carry out the two example calculations shown at the start of this section.\n",
    "\n",
    "(b) Find $(11+7)^{10} \\mod 13$.\n",
    "</div>"
   ]
  },
  {
   "cell_type": "code",
   "execution_count": 6,
   "metadata": {},
   "outputs": [
    {
     "data": {
      "text/plain": [
       "5"
      ]
     },
     "execution_count": 6,
     "metadata": {},
     "output_type": "execute_result"
    }
   ],
   "source": [
    "mod(16,11)"
   ]
  },
  {
   "cell_type": "code",
   "execution_count": 7,
   "metadata": {},
   "outputs": [
    {
     "data": {
      "text/plain": [
       "1"
      ]
     },
     "execution_count": 7,
     "metadata": {},
     "output_type": "execute_result"
    }
   ],
   "source": [
    "mod(12,11)"
   ]
  },
  {
   "cell_type": "code",
   "execution_count": 8,
   "metadata": {},
   "outputs": [
    {
     "data": {
      "text/plain": [
       "12"
      ]
     },
     "execution_count": 8,
     "metadata": {},
     "output_type": "execute_result"
    }
   ],
   "source": [
    "mod((11+7)^10,13)"
   ]
  },
  {
   "cell_type": "markdown",
   "metadata": {},
   "source": [
    "Now we're ready to put modular arithmetic into practice..."
   ]
  },
  {
   "cell_type": "markdown",
   "metadata": {},
   "source": [
    "## 2. The Diffie-Hellman key exchange protocol"
   ]
  },
  {
   "cell_type": "markdown",
   "metadata": {},
   "source": [
    "To send secret messages, it can be helpful to first establish a secret that only the sender and receiver know -- for example, when using a [Caesar cipher](https://en.wikipedia.org/wiki/Caesar_cipher) where each letter is shifted by a certain amount, it helps if the sender and receiver know in advance what shift size they will use.\n",
    "\n",
    "A similar principle is used to help encrypt/decrypt internet traffic, e.g. connections to websites using [TLS](https://en.wikipedia.org/wiki/Transport_Layer_Security), which is often indicated in web browsers with a padlock icon.\n",
    "\n",
    "The Diffie-Hellman key exchange protocol provides a way for two people (say Alice and Bob) to establish a **shared secret** over an insecure channel where others (say Eve) could see what they are saying to each other.\n",
    "\n",
    "### Example\n",
    "\n",
    "To start with, everyone agrees to use the same prime number $p$ and base $g$:"
   ]
  },
  {
   "cell_type": "code",
   "execution_count": 9,
   "metadata": {},
   "outputs": [],
   "source": [
    "p = 101\n",
    "g = mod(2, p)"
   ]
  },
  {
   "cell_type": "markdown",
   "metadata": {},
   "source": [
    "(As an aside, we can use the `%whos` function to check on the values of all variables known to Sage:)"
   ]
  },
  {
   "cell_type": "code",
   "execution_count": 10,
   "metadata": {},
   "outputs": [
    {
     "name": "stdout",
     "output_type": "stream",
     "text": [
      "Variable   Type              Data/Info\n",
      "--------------------------------------\n",
      "g          IntegerMod_int    2\n",
      "k          Integer           20\n",
      "p          Integer           101\n"
     ]
    }
   ],
   "source": [
    "%whos"
   ]
  },
  {
   "cell_type": "markdown",
   "metadata": {},
   "source": [
    "Alice chooses a secret number `a` and then uses this to compute her public key `A`:"
   ]
  },
  {
   "cell_type": "code",
   "execution_count": 11,
   "metadata": {},
   "outputs": [
    {
     "data": {
      "text/plain": [
       "99"
      ]
     },
     "execution_count": 11,
     "metadata": {},
     "output_type": "execute_result"
    }
   ],
   "source": [
    "a = randint(2, 100) # choose a random integer in [2, 100]\n",
    "A = g^a\n",
    "A"
   ]
  },
  {
   "cell_type": "markdown",
   "metadata": {},
   "source": [
    "At this point, we've only printed out `A` and we'll keep `a` secret.\n",
    "\n",
    "Bob carries out the same procedure, choosing a secret number `b` and computing his public key `B`:"
   ]
  },
  {
   "cell_type": "code",
   "execution_count": 12,
   "metadata": {},
   "outputs": [
    {
     "data": {
      "text/plain": [
       "37"
      ]
     },
     "execution_count": 12,
     "metadata": {},
     "output_type": "execute_result"
    }
   ],
   "source": [
    "b = randint(2, 100)\n",
    "B = g^b\n",
    "B"
   ]
  },
  {
   "cell_type": "markdown",
   "metadata": {},
   "source": [
    "The clever twist is that they can both now work out a **shared secret**, using the public information (`A` and `B`) and the secrets they each hold:"
   ]
  },
  {
   "cell_type": "code",
   "execution_count": 13,
   "metadata": {},
   "outputs": [
    {
     "data": {
      "text/plain": [
       "(37, 37)"
      ]
     },
     "execution_count": 13,
     "metadata": {},
     "output_type": "execute_result"
    }
   ],
   "source": [
    "s_A = B^a # Alice knows B and her secret a\n",
    "s_B = A^b # Bob knows A and his secret b\n",
    "(s_A, s_B)"
   ]
  },
  {
   "cell_type": "markdown",
   "metadata": {},
   "source": [
    "This works because in both cases we are just working out $g^{(ab)}$:\n",
    "\n",
    "$$ \\begin{align} g^{(ab)} &= \\left(g^a\\right)^b = A^b, \\\\ g^{(ab)} &= \\left(g^b\\right)^a = B^a \\end{align} $$"
   ]
  },
  {
   "cell_type": "markdown",
   "metadata": {},
   "source": [
    "<div class=\"alert alert-info\">\n",
    "    <h3>Exercise 2.1</h3>\n",
    "\n",
    "Try this with the person next to you!\n",
    "\n",
    "Work through the following steps together:\n",
    "</div>"
   ]
  },
  {
   "cell_type": "markdown",
   "metadata": {},
   "source": [
    "We'll work modulo a slightly bigger prime number:"
   ]
  },
  {
   "cell_type": "code",
   "execution_count": 33,
   "metadata": {},
   "outputs": [
    {
     "data": {
      "text/plain": [
       "(1000003, 2)"
      ]
     },
     "execution_count": 33,
     "metadata": {},
     "output_type": "execute_result"
    }
   ],
   "source": [
    "p = next_prime(10^6)\n",
    "g = mod(2, p)\n",
    "(p, g)"
   ]
  },
  {
   "cell_type": "markdown",
   "metadata": {},
   "source": [
    "Choose your secret number (anything between 1 and `p`):"
   ]
  },
  {
   "cell_type": "code",
   "execution_count": 34,
   "metadata": {},
   "outputs": [],
   "source": [
    "a = 12"
   ]
  },
  {
   "cell_type": "markdown",
   "metadata": {},
   "source": [
    "Share your public value with your neighbour:"
   ]
  },
  {
   "cell_type": "code",
   "execution_count": 35,
   "metadata": {},
   "outputs": [
    {
     "data": {
      "text/plain": [
       "4096"
      ]
     },
     "execution_count": 35,
     "metadata": {},
     "output_type": "execute_result"
    }
   ],
   "source": [
    "A = g^a\n",
    "A"
   ]
  },
  {
   "cell_type": "markdown",
   "metadata": {},
   "source": [
    "What is your neighbour's public value?"
   ]
  },
  {
   "cell_type": "code",
   "execution_count": 36,
   "metadata": {},
   "outputs": [
    {
     "data": {
      "text/plain": [
       "402745"
      ]
     },
     "execution_count": 36,
     "metadata": {},
     "output_type": "execute_result"
    }
   ],
   "source": [
    "B = g^66\n",
    "B"
   ]
  },
  {
   "cell_type": "markdown",
   "metadata": {},
   "source": [
    "So the secret value is:"
   ]
  },
  {
   "cell_type": "code",
   "execution_count": 37,
   "metadata": {},
   "outputs": [
    {
     "data": {
      "text/plain": [
       "407590"
      ]
     },
     "execution_count": 37,
     "metadata": {},
     "output_type": "execute_result"
    }
   ],
   "source": [
    "s = B^a\n",
    "s"
   ]
  },
  {
   "cell_type": "markdown",
   "metadata": {},
   "source": [
    "Does this agree with what your neighbour got?"
   ]
  },
  {
   "cell_type": "markdown",
   "metadata": {},
   "source": [
    "## 3. Snooping on the secret\n",
    "\n",
    "Is this really secure?\n",
    "\n",
    "Let's return to the original example:"
   ]
  },
  {
   "cell_type": "code",
   "execution_count": 40,
   "metadata": {},
   "outputs": [
    {
     "data": {
      "text/plain": [
       "(101, 2, 32, 21)"
      ]
     },
     "execution_count": 40,
     "metadata": {},
     "output_type": "execute_result"
    }
   ],
   "source": [
    "reset()\n",
    "p = 101\n",
    "g = mod(2, p)\n",
    "a = 5\n",
    "b = 78\n",
    "A = g^a\n",
    "B = g^b\n",
    "(p, g, A, B)"
   ]
  },
  {
   "cell_type": "markdown",
   "metadata": {},
   "source": [
    "Suppose Eve is trying to hack into the communications between Alice and Bob -- she wants to know the value of their shared secret.\n",
    "\n",
    "Since Eve does not know $a$ or $b$, she has no easy way to work out the secret number $s$. She is forced to try to\n",
    "work out $a$ or $b$ using the values $A, B, g, p$ but this is not easy. For instance, how can you find $a$ if you know that $$2^a = 25 \\mod 101?$$\n",
    "\n",
    "This is known as the **discrete logarithm problem**, and even the most efficient way for working this out is still not much better than just trying each possible $a$ in turn! When large numbers are being used, this means the time needed to try all the possiblities is impractical.\n",
    "\n",
    "This code tries each possibility in turn - it will solve the discrete logarithm problem provided $a\\leq100$:"
   ]
  },
  {
   "cell_type": "code",
   "execution_count": 63,
   "metadata": {},
   "outputs": [
    {
     "name": "stdout",
     "output_type": "stream",
     "text": [
      "a = 1\n",
      "a = 21\n",
      "a = 41\n"
     ]
    }
   ],
   "source": [
    "i = 1\n",
    "while i <= 49:\n",
    "    if mod(2, 50)^i == 2:\n",
    "        print(\"a = \"+str(i));\n",
    "        i+=1\n",
    "    else:\n",
    "        i = i+1;"
   ]
  },
  {
   "cell_type": "code",
   "execution_count": 52,
   "metadata": {},
   "outputs": [
    {
     "name": "stdout",
     "output_type": "stream",
     "text": [
      "a = 5\n"
     ]
    }
   ],
   "source": [
    "i = 1\n",
    "while i <= 100:\n",
    "    if mod(2, 101)^i == 32:\n",
    "        print(\"a = \"+str(i));\n",
    "        break;\n",
    "    else:\n",
    "        i = i+1;"
   ]
  },
  {
   "cell_type": "code",
   "execution_count": 53,
   "metadata": {},
   "outputs": [
    {
     "name": "stdout",
     "output_type": "stream",
     "text": [
      "b = 78\n"
     ]
    }
   ],
   "source": [
    "i = 1\n",
    "while i <= 100:\n",
    "    if mod(2, 101)^i == 21:\n",
    "        print(\"b = \"+str(i));\n",
    "        break;\n",
    "    else:\n",
    "        i = i+1;"
   ]
  },
  {
   "cell_type": "markdown",
   "metadata": {},
   "source": [
    "<span class=\"label label-danger\">Task</span> Is this the correct solution? Write some code to check!"
   ]
  },
  {
   "cell_type": "code",
   "execution_count": 42,
   "metadata": {},
   "outputs": [
    {
     "data": {
      "text/plain": [
       "32"
      ]
     },
     "execution_count": 42,
     "metadata": {},
     "output_type": "execute_result"
    }
   ],
   "source": [
    "i = 1\n",
    "while i <= 100:\n",
    "    if mod(2, 101)^i == 25:\n",
    "        print(\"a = \"+str(i));\n",
    "        break;\n",
    "    else:\n",
    "        i = i+1;"
   ]
  },
  {
   "cell_type": "markdown",
   "metadata": {},
   "source": [
    "<div class=\"alert alert-info\">\n",
    "    <h3>Exercise 3.1</h3>\n",
    "\n",
    "Adapt the code above to solve the discrete logarithm problem $g^a=A \\mod p$ with the values of $g$, $A$ and $p$ from the example above.\n",
    "</div>"
   ]
  },
  {
   "cell_type": "code",
   "execution_count": 22,
   "metadata": {},
   "outputs": [
    {
     "name": "stdout",
     "output_type": "stream",
     "text": [
      "a = 72\n"
     ]
    }
   ],
   "source": [
    "p=101\n",
    "g = mod(2, p)\n",
    "\n",
    "i = 1\n",
    "while i <= 100:\n",
    "    if g^i == A:\n",
    "        print(\"a = \"+str(i));\n",
    "        break;\n",
    "    else:\n",
    "        i = i+1;\n"
   ]
  },
  {
   "cell_type": "markdown",
   "metadata": {},
   "source": [
    "The following function uses this approach to solving the discrete logarithm problem, and returns the solution as well as the time taken:"
   ]
  },
  {
   "cell_type": "code",
   "execution_count": 23,
   "metadata": {},
   "outputs": [],
   "source": [
    "import time\n",
    "def time_discrete_log(g, p, A):\n",
    "    start_time = time.time() # this records the time at the start\n",
    "    i = 1\n",
    "    while i <= p-1:\n",
    "        if mod(g,p)^i == mod(A,p):\n",
    "            # i is the correct value, so we can stop the loop\n",
    "            break;\n",
    "        else:\n",
    "            i = i+1;\n",
    "    elapsed_time = time.time() - start_time\n",
    "    return (i, elapsed_time)"
   ]
  },
  {
   "cell_type": "code",
   "execution_count": 24,
   "metadata": {},
   "outputs": [
    {
     "data": {
      "text/plain": [
       "(72, 0.0007441043853759766)"
      ]
     },
     "execution_count": 24,
     "metadata": {},
     "output_type": "execute_result"
    }
   ],
   "source": [
    "time_discrete_log(g, p, A)"
   ]
  },
  {
   "cell_type": "markdown",
   "metadata": {},
   "source": [
    "<div class=\"alert alert-info\">\n",
    "    <h3>Exercise 3.2</h3>\n",
    "\n",
    "Do you understand what this code is doing? If not, discuss it with your neighbour, or ask one of the tutors!\n",
    "\n",
    "In particular, why does the `while` loop use the condition `i <= p-1`?\n",
    "</div>"
   ]
  },
  {
   "cell_type": "markdown",
   "metadata": {},
   "source": []
  },
  {
   "cell_type": "markdown",
   "metadata": {},
   "source": [
    "Note that `time.time()` gives the current time (this is measured in seconds since [1st January 1970](https://en.wikipedia.org/wiki/Unix_time)):"
   ]
  },
  {
   "cell_type": "code",
   "execution_count": 25,
   "metadata": {},
   "outputs": [
    {
     "data": {
      "text/plain": [
       "1580383222.711236"
      ]
     },
     "execution_count": 25,
     "metadata": {},
     "output_type": "execute_result"
    }
   ],
   "source": [
    "time.time()"
   ]
  },
  {
   "cell_type": "markdown",
   "metadata": {},
   "source": [
    "Let's try with a bigger prime number, to see how much harder the problem gets for Eve:"
   ]
  },
  {
   "cell_type": "code",
   "execution_count": 61,
   "metadata": {},
   "outputs": [
    {
     "name": "stdout",
     "output_type": "stream",
     "text": [
      "Solving 2^a = 15352 mod 100003\n",
      "Solution found: a = 71742\n",
      "Time taken: 0.758960008621\n"
     ]
    },
    {
     "data": {
      "text/plain": [
       "True"
      ]
     },
     "execution_count": 61,
     "metadata": {},
     "output_type": "execute_result"
    }
   ],
   "source": [
    "p = next_prime(10^5)\n",
    "g = mod(2, p);\n",
    "a = randint(2, p-1)\n",
    "A = g^a\n",
    "E = time_discrete_log(g, p, A)\n",
    "print(\"Solving %s^%s = %s mod %s\" % (g, \"a\", A, p))\n",
    "print(\"Solution found: a = %s\\nTime taken: %s\" % E)\n",
    "E[0] == a"
   ]
  },
  {
   "cell_type": "markdown",
   "metadata": {},
   "source": [
    "<span class=\"label label-danger\">Task</span> Run the code above a few times, and you will notice that the time taken changes each time. This is because `a` is chosen randomly each time, and when `a` is small the naive method will find it more quickly. You can see this clearly by manually setting `a` to be a small number."
   ]
  },
  {
   "cell_type": "markdown",
   "metadata": {},
   "source": [
    "To compensate for this variability, we should run the experiment a few times and take an _average_ of the running times.\n",
    "\n",
    "Here we define a function which runs a single trial and returns the running time:"
   ]
  },
  {
   "cell_type": "code",
   "execution_count": 62,
   "metadata": {},
   "outputs": [],
   "source": [
    "def run_trial(p, g):\n",
    "    a = randint(2, p)\n",
    "    A = mod(g, p)^a\n",
    "    E = time_discrete_log(g, p, A)\n",
    "    return E[1]"
   ]
  },
  {
   "cell_type": "markdown",
   "metadata": {},
   "source": [
    "We can use this to run several experiments in a row:"
   ]
  },
  {
   "cell_type": "code",
   "execution_count": 63,
   "metadata": {},
   "outputs": [
    {
     "data": {
      "text/plain": [
       "[0.8663249015808105,\n",
       " 0.7144589424133301,\n",
       " 0.5883970260620117,\n",
       " 0.6596579551696777,\n",
       " 0.11661696434020996]"
      ]
     },
     "execution_count": 63,
     "metadata": {},
     "output_type": "execute_result"
    }
   ],
   "source": [
    "[run_trial(p, g) for i in [1..5]]"
   ]
  },
  {
   "cell_type": "code",
   "execution_count": 64,
   "metadata": {},
   "outputs": [
    {
     "data": {
      "text/plain": [
       "0.5516640663146972"
      ]
     },
     "execution_count": 64,
     "metadata": {},
     "output_type": "execute_result"
    }
   ],
   "source": [
    "sum([run_trial(p, g) for i in [1..10]])/10"
   ]
  },
  {
   "cell_type": "markdown",
   "metadata": {},
   "source": [
    "<div class=\"alert alert-info\">\n",
    "    <h3>Exercise 3.3</h3>\n",
    "\n",
    "Write a function `find_average_runtime` which takes in `p` and `g` and returns the [arithmetic mean](http://doc.sagemath.org/html/en/reference/stats/sage/stats/basic_stats.html) of the running time for 10 trials.\n",
    "</div>"
   ]
  },
  {
   "cell_type": "code",
   "execution_count": 65,
   "metadata": {},
   "outputs": [],
   "source": [
    "def find_average_runtime(p,g):\n",
    "    return sum([run_trial(p, g) for i in [1..10]])/10"
   ]
  },
  {
   "cell_type": "code",
   "execution_count": 30,
   "metadata": {},
   "outputs": [
    {
     "data": {
      "text/plain": [
       "0.003081512451171875"
      ]
     },
     "execution_count": 30,
     "metadata": {},
     "output_type": "execute_result"
    }
   ],
   "source": [
    "# Testing:\n",
    "p = next_prime(10^3)\n",
    "find_average_runtime(p, g)"
   ]
  },
  {
   "cell_type": "markdown",
   "metadata": {},
   "source": [
    "Now let's see how much harder the problem gets as we increase `p`. Here are some primes of increasing size:"
   ]
  },
  {
   "cell_type": "code",
   "execution_count": 31,
   "metadata": {},
   "outputs": [],
   "source": [
    "testprimes = [10163,30203,50147,70003,90011]"
   ]
  },
  {
   "cell_type": "markdown",
   "metadata": {},
   "source": [
    "For each one, we use the `find_average_runtime` procedure you wrote above and produce the pair `[p,running time using p]` - and we build up a list of these lists. Note: this might take 10-20 seconds or so to run!"
   ]
  },
  {
   "cell_type": "code",
   "execution_count": 32,
   "metadata": {},
   "outputs": [],
   "source": [
    "data = [[p, find_average_runtime(p,g)] for p in testprimes]"
   ]
  },
  {
   "cell_type": "code",
   "execution_count": 33,
   "metadata": {},
   "outputs": [
    {
     "data": {
      "text/plain": [
       "[[10163, 0.055242514610290526],\n",
       " [30203, 0.14564781188964843],\n",
       " [50147, 0.2883544683456421],\n",
       " [70003, 0.3674426794052124],\n",
       " [90011, 0.5762285947799682]]"
      ]
     },
     "execution_count": 33,
     "metadata": {},
     "output_type": "execute_result"
    }
   ],
   "source": [
    "data"
   ]
  },
  {
   "cell_type": "markdown",
   "metadata": {},
   "source": [
    "We can [plot this list of data](http://doc.sagemath.org/html/en/reference/plotting/sage/plot/plot.html#sage.plot.plot.list_plot) - hopefully you will see a trend..."
   ]
  },
  {
   "cell_type": "code",
   "execution_count": 34,
   "metadata": {},
   "outputs": [
    {
     "data": {
      "image/png": "[encoded data removed]",
      "text/plain": [
       "Graphics object consisting of 1 graphics primitive"
      ]
     },
     "execution_count": 34,
     "metadata": {},
     "output_type": "execute_result"
    }
   ],
   "source": [
    "list_plot(data)"
   ]
  },
  {
   "cell_type": "markdown",
   "metadata": {},
   "source": [
    "## 4. Working with really large primes\n",
    "\n",
    "This has hopefully convinced you that in order to make the secret secure, we should make `p` large. In real-life applications, Diffie-Hellman key exchanges use large primes like the ones listed in this standard: http://datatracker.ietf.org/doc/rfc3526/\n",
    "\n",
    "The document lists several primes which can be used. They are given in hexadecimal (i.e. base-16), but we can easily convert those to decimal -- for example, the smallest prime listed in that document is:"
   ]
  },
  {
   "cell_type": "code",
   "execution_count": 35,
   "metadata": {},
   "outputs": [
    {
     "data": {
      "text/plain": [
       "2410312426921032588552076022197566074856950548502459942654116941958108831682612228890093858261341614673227141477904012196503648957050582631942730706805009223062734745341073406696246014589361659774041027169249453200378729434170325843778659198143763193776859869524088940195577346119843545301547043747207749969763750084308926339295559968882457872412993810129130294592999947926365264059284647209730384947211681434464714438488520940127459844288859336526896320919633919L"
      ]
     },
     "execution_count": 35,
     "metadata": {},
     "output_type": "execute_result"
    }
   ],
   "source": [
    "s = \"FFFFFFFFFFFFFFFFC90FDAA22168C234C4C6628B80DC1CD129024E088A67CC74020BBEA63B139B22514A08798E3404DDEF9519B3CD3A431B302B0A6DF25F14374FE1356D6D51C245E485B576625E7EC6F44C42E9A637ED6B0BFF5CB6F406B7EDEE386BFB5A899FA5AE9F24117C4B1FE649286651ECE45B3DC2007CB8A163BF0598DA48361C55D39A69163FA8FD24CF5F83655D23DCA3AD961C62F356208552BB9ED529077096966D670C354E4ABC9804F1746C08CA237327FFFFFFFFFFFFFFFF\"\n",
    "p1 = int(s,16)\n",
    "p1"
   ]
  },
  {
   "cell_type": "markdown",
   "metadata": {},
   "source": [
    "That's big!\n",
    "\n",
    "We can compute a small example:"
   ]
  },
  {
   "cell_type": "code",
   "execution_count": 36,
   "metadata": {},
   "outputs": [
    {
     "data": {
      "text/plain": [
       "476255751805024382658668027831353247136601799856444533012142031299555358294341354824003805650371512958197169403918917634133341122414794396789324703963868955122718691326514378138778758685738207873756546643218642842895536614432868783088233372010360726682601471619424443361469683028154027303576307129947486482843586467992610970683007693289434949092664977177338032179777468803300302663900070717372957421832789356784260432062197286944808402798493366544366403275914125"
      ]
     },
     "execution_count": 36,
     "metadata": {},
     "output_type": "execute_result"
    }
   ],
   "source": [
    "a = 2020\n",
    "A = mod(2, p1)^a\n",
    "A"
   ]
  },
  {
   "cell_type": "markdown",
   "metadata": {},
   "source": [
    "Or a bigger example:"
   ]
  },
  {
   "cell_type": "code",
   "execution_count": 37,
   "metadata": {},
   "outputs": [
    {
     "data": {
      "text/plain": [
       "495805851909892758328228376374807613720595704925295457005433226802325195988684782569896177608878555888101465852528082783448725296517378669162730617275927603660483248141542005664289601597282620965462686251912044173257526724628924753261748148105630145920907785109246073784160586494651231004136457890061082015368501698583257273733771703408333652536850213117154932396967900953272719527925403491379004569239961264322287447635643714547692270538382190942348809292966879"
      ]
     },
     "execution_count": 37,
     "metadata": {},
     "output_type": "execute_result"
    }
   ],
   "source": [
    "a = 202020202020\n",
    "A = mod(2, p1)^a\n",
    "A"
   ]
  },
  {
   "cell_type": "markdown",
   "metadata": {},
   "source": [
    "Note that the order of moves is important here. If instead we had written `A = mod(2^a, p1)` then Sage would have tried to calculate $2^{202020202020}$ first as an integer, _then_ determine what that is mod `p1` -- but that integer is so big that it goes beyond the system's capacity and causes an error."
   ]
  },
  {
   "cell_type": "markdown",
   "metadata": {},
   "source": [
    "To complete the example, Bob finds:"
   ]
  },
  {
   "cell_type": "code",
   "execution_count": 38,
   "metadata": {},
   "outputs": [
    {
     "data": {
      "text/plain": [
       "405054314473496968893254533537408247129648095062263548745348586459341899592866886661434128482201159293740907167622359673570289123220274898089542326128862069663045226686805042318152822605623882480686894252390637303279153060849110798971301569038716677288416807675218637905619893353132376074163508073600687741351188290610035288107921108428450600403740738105358336423155666153737714597020535589442938053513516259551490431028536786158859631059211489730503685893128414"
      ]
     },
     "execution_count": 38,
     "metadata": {},
     "output_type": "execute_result"
    }
   ],
   "source": [
    "b = randint(2, 10^10)\n",
    "B = mod(2, p1)^b\n",
    "B"
   ]
  },
  {
   "cell_type": "markdown",
   "metadata": {},
   "source": [
    "This gives the secret value:"
   ]
  },
  {
   "cell_type": "code",
   "execution_count": 39,
   "metadata": {},
   "outputs": [
    {
     "data": {
      "text/plain": [
       "947631858851391169531796801806351637529809283859644478658096030611467417908877955635415708950447980109365473403673445240484240838722702165422973849819190250226811527498420164980666155985099829915071278403461920759481776234533931531198277293525331150032090341379429052294469489058639729413850441330715316821384031723038954330939391422629654616406435485523527632077793627248631260812326239165339234560442754808419288526190924104431960265335916780337098992117962653"
      ]
     },
     "execution_count": 39,
     "metadata": {},
     "output_type": "execute_result"
    }
   ],
   "source": [
    "B^a"
   ]
  },
  {
   "cell_type": "markdown",
   "metadata": {},
   "source": [
    "which agrees with what Bob would get too:"
   ]
  },
  {
   "cell_type": "code",
   "execution_count": 40,
   "metadata": {},
   "outputs": [
    {
     "name": "stdout",
     "output_type": "stream",
     "text": [
      "947631858851391169531796801806351637529809283859644478658096030611467417908877955635415708950447980109365473403673445240484240838722702165422973849819190250226811527498420164980666155985099829915071278403461920759481776234533931531198277293525331150032090341379429052294469489058639729413850441330715316821384031723038954330939391422629654616406435485523527632077793627248631260812326239165339234560442754808419288526190924104431960265335916780337098992117962653\n"
     ]
    },
    {
     "data": {
      "text/plain": [
       "True"
      ]
     },
     "execution_count": 40,
     "metadata": {},
     "output_type": "execute_result"
    }
   ],
   "source": [
    "print(A^b)\n",
    "A^b == B^a"
   ]
  },
  {
   "cell_type": "markdown",
   "metadata": {},
   "source": [
    "Notice that we are working out really large powers here, and the answers are being returned very quickly. To compute these high powers efficiently, Sage uses an algorithm for [exponentiation by squaring](https://en.wikipedia.org/wiki/Exponentiation_by_squaring).\n",
    "\n",
    "The Wikipedia article gives some pseudocode (i.e. rough code that humans can read, but is not in any particular programming language) for a recursive function to do this:\n",
    "\n",
    "```\n",
    "  Function exp_by_squaring(x, n)\n",
    "    if n < 0  then return exp_by_squaring(1 / x, -n);\n",
    "    else if n = 0  then return  1;\n",
    "    else if n = 1  then return  x ;\n",
    "    else if n is even  then return exp_by_squaring(x * x,  n / 2);\n",
    "    else if n is odd  then return x * exp_by_squaring(x * x, (n - 1) / 2);\n",
    "```\n",
    "\n",
    "So for instance, if I want to work out $x^4$ I will end up in the `n is even` case, which gives the answer as $(x^2)^2$ -- I need to use the function again to work out $x^2$, and this process will continue until eventually one of the \"base cases\" `n=0` or `n=1` are reached."
   ]
  },
  {
   "cell_type": "markdown",
   "metadata": {},
   "source": [
    "<div class=\"alert alert-info\">\n",
    "    <h3>Exercise 4.1</h3>\n",
    "\n",
    "Use the pseudocode above to write a function `exp_by_squaring(x, n, p)` that computes $x^n \\mod p$.\n",
    "\n",
    "Remember that the above is only pseudocode, so you will need to make adjustments so that it is valid Sage code. You will also need to add in code to make sure calculations are being carried out $\\text{mod } p$.\n",
    "</div>"
   ]
  },
  {
   "cell_type": "code",
   "execution_count": 41,
   "metadata": {},
   "outputs": [],
   "source": [
    "def exp_by_squaring(x, n, p):\n",
    "    if n < 0:\n",
    "        return mod(exp_by_squaring(1/x,-n,p),p)\n",
    "    elif n == 0:\n",
    "        return  1\n",
    "    elif n == 1:\n",
    "        return  mod(x,p)\n",
    "    elif n%2==0:\n",
    "        return mod(exp_by_squaring(x*x, n/2,p),p)\n",
    "    elif n%2!=0:\n",
    "        return mod(x*exp_by_squaring(x*x, (n-1)/2, p),p)\n",
    "    "
   ]
  },
  {
   "cell_type": "markdown",
   "metadata": {},
   "source": [
    "Let's test out your function:"
   ]
  },
  {
   "cell_type": "code",
   "execution_count": 42,
   "metadata": {},
   "outputs": [
    {
     "data": {
      "text/plain": [
       "(4900, 4900)"
      ]
     },
     "execution_count": 42,
     "metadata": {},
     "output_type": "execute_result"
    }
   ],
   "source": [
    "p = next_prime(14380)\n",
    "n = 123456789\n",
    "your_ans = exp_by_squaring(3, n, p)\n",
    "sage_ans = mod(3, p)^n\n",
    "(your_ans, sage_ans)"
   ]
  },
  {
   "cell_type": "markdown",
   "metadata": {},
   "source": [
    "Let's also investigate the running times when working out a really large power:"
   ]
  },
  {
   "cell_type": "code",
   "execution_count": 43,
   "metadata": {},
   "outputs": [
    {
     "data": {
      "text/plain": [
       "25528813222"
      ]
     },
     "execution_count": 43,
     "metadata": {},
     "output_type": "execute_result"
    }
   ],
   "source": [
    "pwr = randint(10^10, 10^11)\n",
    "pwr"
   ]
  },
  {
   "cell_type": "markdown",
   "metadata": {},
   "source": [
    "Rather than writing our own code to do the timing, we can just use the `%timeit` command to do a quick check of the running time for a snippet of code:"
   ]
  },
  {
   "cell_type": "markdown",
   "metadata": {},
   "source": [
    "You should find that Sage gets the answer about 10 times quicker than our `exp_by_squaring` function."
   ]
  },
  {
   "cell_type": "markdown",
   "metadata": {},
   "source": [
    "## 5. Choosing $p$ and $g$ to be secure\n",
    "\n",
    "The security of the Diffie-Hellman key exchange protocol relies on the fact that Eve has to solve a difficult problem in order to discover the secret.\n",
    "\n",
    "As we have seen, using a large prime $p$ increases the difficulty of Eve's task, and this relationship is roughly linear (the plot produced earlier should look like points on a straight line, allowing for some experimental error).\n",
    "\n",
    "But this relies on the fact that the $g$ we use is a **generator** of the whole group $\\mathbf{F}_p^{\\times}$ -- if $g$ only generates a subgroup of $\\mathbf{F}_p^{\\times}$ then Eve's task is made easier, as she will only have to check at most $|\\langle g \\rangle|$ possibilities (rather than $p-1$).\n",
    "\n",
    "Let's look at an example:"
   ]
  },
  {
   "cell_type": "code",
   "execution_count": 44,
   "metadata": {},
   "outputs": [
    {
     "data": {
      "text/plain": [
       "1"
      ]
     },
     "execution_count": 44,
     "metadata": {},
     "output_type": "execute_result"
    }
   ],
   "source": [
    "p = 40009\n",
    "g = 2\n",
    "mod(g, p)^5001"
   ]
  },
  {
   "cell_type": "markdown",
   "metadata": {},
   "source": [
    "So Eve needs to check no more than about 5000 possibilities to solve the problem, rather than about 40000.\n",
    "\n",
    "Let's check the running time:"
   ]
  },
  {
   "cell_type": "code",
   "execution_count": 45,
   "metadata": {},
   "outputs": [
    {
     "data": {
      "text/plain": [
       "0.02054450511932373"
      ]
     },
     "execution_count": 45,
     "metadata": {},
     "output_type": "execute_result"
    }
   ],
   "source": [
    "find_average_runtime(p, g)"
   ]
  },
  {
   "cell_type": "markdown",
   "metadata": {},
   "source": [
    "To see that this really is lower than we would have first thought, let's combine it with the data from earlier (see the end of section 3) where `data` was defined:"
   ]
  },
  {
   "cell_type": "code",
   "execution_count": 46,
   "metadata": {},
   "outputs": [],
   "source": [
    "new_data = data + [[p, find_average_runtime(p, g)]]"
   ]
  },
  {
   "cell_type": "code",
   "execution_count": 47,
   "metadata": {},
   "outputs": [
    {
     "data": {
      "text/plain": [
       "[[10163, 0.055242514610290526],\n",
       " [30203, 0.14564781188964843],\n",
       " [50147, 0.2883544683456421],\n",
       " [70003, 0.3674426794052124],\n",
       " [90011, 0.5762285947799682],\n",
       " [40009, 0.04081451892852783]]"
      ]
     },
     "execution_count": 47,
     "metadata": {},
     "output_type": "execute_result"
    }
   ],
   "source": [
    "new_data"
   ]
  },
  {
   "cell_type": "code",
   "execution_count": 48,
   "metadata": {},
   "outputs": [
    {
     "data": {
      "image/png": "[encoded data removed]",
      "text/plain": [
       "Graphics object consisting of 1 graphics primitive"
      ]
     },
     "execution_count": 48,
     "metadata": {},
     "output_type": "execute_result"
    }
   ],
   "source": [
    "list_plot(new_data)"
   ]
  },
  {
   "cell_type": "markdown",
   "metadata": {},
   "source": [
    "<div class=\"alert alert-info\">\n",
    "    <h3>Exercise 5.1</h3>\n",
    "\n",
    "The prime 120247 is an even worse example!\n",
    "\n",
    "(a) Check that in $\\mathbf{F}_{120247}^\\times$ the element 2 has order 1227.\n",
    "\n",
    "(b) Update `new_data` with the results for this $p$, and produce the plot again.\n",
    "</div>"
   ]
  },
  {
   "cell_type": "code",
   "execution_count": 52,
   "metadata": {},
   "outputs": [
    {
     "data": {
      "text/plain": [
       "1"
      ]
     },
     "execution_count": 52,
     "metadata": {},
     "output_type": "execute_result"
    }
   ],
   "source": [
    "p = 120247\n",
    "g = 2\n",
    "mod(g, p)^1227"
   ]
  },
  {
   "cell_type": "code",
   "execution_count": 53,
   "metadata": {},
   "outputs": [],
   "source": [
    "new_data.append([120247,find_average_runtime(120247, 2)])"
   ]
  },
  {
   "cell_type": "code",
   "execution_count": 54,
   "metadata": {},
   "outputs": [
    {
     "data": {
      "image/png": "[encoded data removed]",
      "text/plain": [
       "Graphics object consisting of 1 graphics primitive"
      ]
     },
     "execution_count": 54,
     "metadata": {},
     "output_type": "execute_result"
    }
   ],
   "source": [
    "list_plot(new_data)"
   ]
  },
  {
   "cell_type": "markdown",
   "metadata": {},
   "source": [
    "So if we want to use 2 as the base (i.e. as $g$), we need to ensure that it is a generator of $\\mathbf{F}_{p}^\\times$\n",
    "Here is one way to work out the order of 2 in $\\mathbf{F}_{p}^\\times$"
   ]
  },
  {
   "cell_type": "code",
   "execution_count": 55,
   "metadata": {},
   "outputs": [
    {
     "name": "stdout",
     "output_type": "stream",
     "text": [
      "order of 2 is 1227\n"
     ]
    }
   ],
   "source": [
    "p = 120247\n",
    "gpwr = mod(1, p)\n",
    "for i in range(1,p):\n",
    "    gpwr = gpwr*2\n",
    "    if(gpwr == 1):\n",
    "        print(\"order of 2 is \"+str(i))\n",
    "        break"
   ]
  },
  {
   "cell_type": "markdown",
   "metadata": {},
   "source": [
    "<div class=\"alert alert-info\">\n",
    "    <h3>Exercise 5.2</h3>\n",
    "\n",
    "Using the method from the code above, write a procedure `find_order_of` which takes in an integer `g` and a prime `p`, and returns the order of `g` in $\\mathbf{F}_{p}^\\times$.\n",
    "\n",
    "Check your code against these facts:\n",
    "* $3^{34} \\equiv 1 \\mod 307$\n",
    "* $7^{210} \\equiv 1 \\mod 211$\n",
    "* $3^{125} \\equiv 1 \\mod 251$\n",
    "</div>"
   ]
  },
  {
   "cell_type": "code",
   "execution_count": 120,
   "metadata": {},
   "outputs": [],
   "source": [
    "def find_order_of(g,p):\n",
    "    gpwr = mod(1, p)\n",
    "    for i in range(1,p):\n",
    "        gpwr = gpwr*g\n",
    "        print(gpwr)\n",
    "        if(gpwr == 1):\n",
    "            return i"
   ]
  },
  {
   "cell_type": "code",
   "execution_count": 123,
   "metadata": {},
   "outputs": [
    {
     "name": "stdout",
     "output_type": "stream",
     "text": [
      "5\n",
      "8\n",
      "6\n",
      "13\n",
      "14\n",
      "2\n",
      "10\n",
      "16\n",
      "12\n",
      "9\n",
      "11\n",
      "4\n",
      "3\n",
      "15\n",
      "7\n",
      "1\n"
     ]
    },
    {
     "data": {
      "text/plain": [
       "16"
      ]
     },
     "execution_count": 123,
     "metadata": {},
     "output_type": "execute_result"
    }
   ],
   "source": [
    "find_order_of(5,17)"
   ]
  },
  {
   "cell_type": "code",
   "execution_count": 102,
   "metadata": {},
   "outputs": [],
   "source": [
    "gpwr = mod(1, 7)\n",
    "gpwr*3"
   ]
  },
  {
   "cell_type": "code",
   "execution_count": 113,
   "metadata": {},
   "outputs": [
    {
     "data": {
      "text/plain": [
       "16677181699666569"
      ]
     },
     "execution_count": 113,
     "metadata": {},
     "output_type": "execute_result"
    }
   ],
   "source": []
  },
  {
   "cell_type": "markdown",
   "metadata": {},
   "source": [
    "<div class=\"alert alert-info\">\n",
    "    <h3>Exercise 5.3</h3>\n",
    "\n",
    "The following code generates a list of primes between 1000 and 2000:\n",
    "\n",
    "```\n",
    "p = next_prime(1000)\n",
    "primes = []\n",
    "while p <= 2000:\n",
    "    primes.append(p)\n",
    "    p = next_prime(p)\n",
    "primes\n",
    "```\n",
    "\n",
    "Produce a list `genby2` of the primes between 1000 and 2000 for which $\\mathbf{F}_{p}^\\times$ is generated by 2.\n",
    "</div>"
   ]
  },
  {
   "cell_type": "code",
   "execution_count": null,
   "metadata": {},
   "outputs": [],
   "source": []
  },
  {
   "cell_type": "markdown",
   "metadata": {},
   "source": [
    "In practice, the primes used in Diffie-Hellman are [\"safe primes\"](https://en.wikipedia.org/wiki/Safe_prime) which are of the form $p = 2q+1$ where $q$ is also prime.\n",
    "\n",
    "This is so that the cyclic group $\\mathbf{F}_{p}^\\times$ has order $2q$ - thus by Lagrange's theorem, the only proper subgroups have size $2$ or $q$. The fact that $q$ is a large prime means that it is still difficult to solve the discrete logarithm problem."
   ]
  }
 ],
 "metadata": {
  "kernelspec": {
   "display_name": "SageMath 8.8",
   "language": "sage",
   "name": "sagemath"
  },
  "language_info": {
   "codemirror_mode": {
    "name": "ipython",
    "version": 2
   },
   "file_extension": ".py",
   "mimetype": "text/x-python",
   "name": "python",
   "nbconvert_exporter": "python",
   "pygments_lexer": "ipython2",
   "version": "2.7.15"
  }
 },
 "nbformat": 4,
 "nbformat_minor": 2
}
