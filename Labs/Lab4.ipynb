{
 "cells": [
  {
   "cell_type": "markdown",
   "metadata": {},
   "source": [
    "# Lab 4: Eigenthings\n",
    "\n"
   ]
  },
  {
   "cell_type": "markdown",
   "metadata": {},
   "source": [
    "The main part of this lab will be about eigenvalues and eigenvectors. Recall that in Lab 1 we saw that Sage can compute these for us:"
   ]
  },
  {
   "cell_type": "code",
   "execution_count": 2,
   "metadata": {},
   "outputs": [
    {
     "data": {
      "text/html": [
       "<html><script type=\"math/tex; mode=display\">\\newcommand{\\Bold}[1]{\\mathbf{#1}}\\left(\\begin{array}{rrr}\n",
       "1 & 0 & 1 \\\\\n",
       "0 & 1 & 1 \\\\\n",
       "1 & 1 & 0\n",
       "\\end{array}\\right)</script></html>"
      ],
      "text/plain": [
       "[1 0 1]\n",
       "[0 1 1]\n",
       "[1 1 0]"
      ]
     },
     "metadata": {},
     "output_type": "display_data"
    },
    {
     "data": {
      "text/html": [
       "<html><script type=\"math/tex; mode=display\">\\newcommand{\\Bold}[1]{\\mathbf{#1}}\\left[\\left(2, \\left[\\left(1,\\,1,\\,1\\right)\\right], 1\\right), \\left(1, \\left[\\left(1,\\,-1,\\,0\\right)\\right], 1\\right), \\left(-1, \\left[\\left(1,\\,1,\\,-2\\right)\\right], 1\\right)\\right]</script></html>"
      ],
      "text/plain": [
       "[(2, [\n",
       "  (1, 1, 1)\n",
       "  ], 1), (1, [\n",
       "  (1, -1, 0)\n",
       "  ], 1), (-1, [\n",
       "  (1, 1, -2)\n",
       "  ], 1)]"
      ]
     },
     "execution_count": 2,
     "metadata": {},
     "output_type": "execute_result"
    }
   ],
   "source": [
    "%display latex\n",
    "M = Matrix(ZZ, 3, 3, [1,0,1, 0,1,1, 1,1,0])\n",
    "pretty_print(M)\n",
    "M.eigenvectors_right()"
   ]
  },
  {
   "cell_type": "markdown",
   "metadata": {},
   "source": [
    "First, there are some review exercises. You will soon be starting to work on a project for this part of the course, and this will involve writing code to solve problems. These review exercises should help you to practise the skills that you've built up so far."
   ]
  },
  {
   "cell_type": "markdown",
   "metadata": {},
   "source": [
    "## 1. Review exercises"
   ]
  },
  {
   "cell_type": "markdown",
   "metadata": {},
   "source": [
    "<div class=\"alert alert-info\">\n",
    "    <h3>Exercise 1.1 - Counting</h3>\n",
    "    \n",
    "**(a)** How many primes are there below 1000?\n",
    "\n",
    "**(b)** How many of those are congruent to 1 modulo 4?\n",
    "\n",
    "</div>"
   ]
  },
  {
   "cell_type": "code",
   "execution_count": 6,
   "metadata": {},
   "outputs": [
    {
     "data": {
      "text/html": [
       "<html><script type=\"math/tex; mode=display\">\\newcommand{\\Bold}[1]{\\mathbf{#1}}168</script></html>"
      ],
      "text/plain": [
       "168"
      ]
     },
     "execution_count": 6,
     "metadata": {},
     "output_type": "execute_result"
    }
   ],
   "source": [
    "list_of_primes = prime_range(1,10^3)\n",
    "len([x for x in range(1000) if x in list_of_primes])"
   ]
  },
  {
   "cell_type": "code",
   "execution_count": 8,
   "metadata": {},
   "outputs": [
    {
     "data": {
      "text/html": [
       "<html><script type=\"math/tex; mode=display\">\\newcommand{\\Bold}[1]{\\mathbf{#1}}80</script></html>"
      ],
      "text/plain": [
       "80"
      ]
     },
     "execution_count": 8,
     "metadata": {},
     "output_type": "execute_result"
    }
   ],
   "source": [
    "len([x for x in range(1000) if x in list_of_primes and mod(x,4)==1])"
   ]
  },
  {
   "cell_type": "code",
   "execution_count": 10,
   "metadata": {},
   "outputs": [
    {
     "data": {
      "text/html": [
       "<html><script type=\"math/tex; mode=display\">\\newcommand{\\Bold}[1]{\\mathbf{#1}}0</script></html>"
      ],
      "text/plain": [
       "0"
      ]
     },
     "execution_count": 10,
     "metadata": {},
     "output_type": "execute_result"
    }
   ],
   "source": [
    "len([])"
   ]
  },
  {
   "cell_type": "markdown",
   "metadata": {},
   "source": [
    "<div class=\"alert alert-info\">\n",
    "    <h3>Exercise 1.2 - Sorting</h3>\n",
    "    \n",
    "**(a)** Write a function called `smaller_first_larger` that takes in a list `L` of numbers. It should\n",
    "do the following:\n",
    "* If L is the empty list `[]`, or contains only one number (e.g. `[7]`) then the function should return `L`.\n",
    "* If the list has more than one number, we will use `x` to denote the first number in `L`. In this case, the function should return a tuple of 3 lists: first, a list consisting of all the numbers in `L` less than `x`, then a list containing the number `x`, and finally a list of all the remaining numbers in `L` which are larger (or equal) to `x`.\n",
    "\n",
    "For example, `smaller_first_larger([7,2,3,11,8,1,7])` should return $([2,3,1],[7],[11,8,7])$.\n",
    "\n",
    "Test your function on this example (and on others!).\n",
    "\n",
    "**(b)** Write a new function called `my_sort` which takes a list of numbers and returns a list with those numbers in increasing order. Thus, `my_sort([7,2,3,11,8,1,7])` should return $[1,2,3,7,7,8,11]$.\n",
    "\n",
    "_Hint:_ this can be done by copying the definition of `smaller_first_larger` and making a few tweaks, to use recursion.\n",
    "\n",
    "</div>"
   ]
  },
  {
   "cell_type": "code",
   "execution_count": 19,
   "metadata": {},
   "outputs": [],
   "source": [
    "def smaller_first_larger(L):\n",
    "    \n",
    "    if (len(L) == 0 or len(L) == 1):\n",
    "        return L\n",
    "    else:\n",
    "        x = L[0]\n",
    "        less = [i for i in L[1:] if i < x]\n",
    "        greater = [i for i in L[1:] if i >= x]\n",
    "        return (less,x,greater)"
   ]
  },
  {
   "cell_type": "code",
   "execution_count": 20,
   "metadata": {},
   "outputs": [
    {
     "data": {
      "text/html": [
       "<html><script type=\"math/tex; mode=display\">\\newcommand{\\Bold}[1]{\\mathbf{#1}}\\left(\\left[2, 3, 1\\right], 7, \\left[11, 8, 7\\right]\\right)</script></html>"
      ],
      "text/plain": [
       "([2, 3, 1], 7, [11, 8, 7])"
      ]
     },
     "execution_count": 20,
     "metadata": {},
     "output_type": "execute_result"
    }
   ],
   "source": [
    "smaller_first_larger([7,2,3,11,8,1,7])"
   ]
  },
  {
   "cell_type": "code",
   "execution_count": 54,
   "metadata": {},
   "outputs": [],
   "source": [
    "def my_sort(L):\n",
    "     if (len(L) == 0 or len(L) == 1):\n",
    "        return L\n",
    "     else:\n",
    "        x = L[0]\n",
    "        less = [i for i in L[1:] if i < x]\n",
    "        greater = [i for i in L[1:] if i >= x]\n",
    "        return my_sort(less)+[x]+my_sort(greater)"
   ]
  },
  {
   "cell_type": "code",
   "execution_count": 55,
   "metadata": {},
   "outputs": [
    {
     "data": {
      "text/html": [
       "<html><script type=\"math/tex; mode=display\">\\newcommand{\\Bold}[1]{\\mathbf{#1}}\\left[1, 2, 3, 7, 7, 8, 11\\right]</script></html>"
      ],
      "text/plain": [
       "[1, 2, 3, 7, 7, 8, 11]"
      ]
     },
     "execution_count": 55,
     "metadata": {},
     "output_type": "execute_result"
    }
   ],
   "source": [
    "my_sort([7,2,3,11,8,1,7])"
   ]
  },
  {
   "cell_type": "markdown",
   "metadata": {},
   "source": [
    "<div class=\"alert alert-info\">\n",
    "    <h3>Exercise 1.3 - Timing</h3>\n",
    "    \n",
    "**(a)** Write a function called `time_eigen` that takes in two numbers, `n` and `trials`, and returns the mean time taken to compute `M.eigenvectors_right()` for `trials` different random `n`$\\times$`n` matrices `M`.\n",
    "\n",
    "**(b)** Produce a plot showing the mean running time of `eigenvectors_right()` for matrices of size $2\\leq n\\leq 10$ using 4 trials in each case. Make sure you label the axes!\n",
    "\n",
    "**(c)** Produce a similar plot comparing the running time of `eigenvectors_right()` and `eigenvalues()`.\n",
    "\n",
    "</div>"
   ]
  },
  {
   "cell_type": "code",
   "execution_count": 4,
   "metadata": {},
   "outputs": [],
   "source": [
    "import time\n",
    "\n",
    "def time_eigen(n,trails):\n",
    "    time_taken = []\n",
    "    for i in range(trails):\n",
    "        M = random_matrix(ZZ, n, n)\n",
    "        start_time = time.time() \n",
    "        M.eigenvectors_right()\n",
    "        time_taken.append(time.time() - start_time)\n",
    "    return mean(time_taken)"
   ]
  },
  {
   "cell_type": "code",
   "execution_count": 5,
   "metadata": {},
   "outputs": [
    {
     "data": {
      "image/png": "[encoded data removed]",
      "text/plain": [
       "<Figure size 432x288 with 1 Axes>"
      ]
     },
     "metadata": {},
     "output_type": "display_data"
    }
   ],
   "source": [
    "import matplotlib.pyplot as plt\n",
    "\n",
    "\n",
    "ax = plt.subplot(111)\n",
    "n = range(2,11)\n",
    "time = [time_eigen(i,4) for i in n]\n",
    "\n",
    "ax.plot(n,time)\n",
    "\n",
    "ax.legend()\n",
    "plt.title(\"mean running time of eigenvectors_right() for matrices of size 1<n<11\")\n",
    "plt.ylabel(\"Time taken (sec)\")\n",
    "plt.xlabel('n (size of the matrix)')\n",
    "\n",
    "plt.show()"
   ]
  },
  {
   "cell_type": "markdown",
   "metadata": {},
   "source": [
    "## 2. Eigenvalues and eigenvectors"
   ]
  },
  {
   "cell_type": "markdown",
   "metadata": {},
   "source": [
    "There are several built-in functions in Sage that deal with eigenvalues and eigenvectors. Let's see some of them in action with an example:"
   ]
  },
  {
   "cell_type": "code",
   "execution_count": 64,
   "metadata": {},
   "outputs": [
    {
     "data": {
      "text/html": [
       "<html><script type=\"math/tex; mode=display\">\\newcommand{\\Bold}[1]{\\mathbf{#1}}\\left(\\begin{array}{rr}\n",
       "1 & 3 \\\\\n",
       "-2 & 6\n",
       "\\end{array}\\right)</script></html>"
      ],
      "text/plain": [
       "[ 1  3]\n",
       "[-2  6]"
      ]
     },
     "execution_count": 64,
     "metadata": {},
     "output_type": "execute_result"
    }
   ],
   "source": [
    "A = matrix(ZZ, [[1,3],[-2,6]])\n",
    "A"
   ]
  },
  {
   "cell_type": "code",
   "execution_count": 65,
   "metadata": {},
   "outputs": [
    {
     "data": {
      "text/html": [
       "<html><script type=\"math/tex; mode=display\">\\newcommand{\\Bold}[1]{\\mathbf{#1}}x^{2} - 7x + 12</script></html>"
      ],
      "text/plain": [
       "x^2 - 7*x + 12"
      ]
     },
     "execution_count": 65,
     "metadata": {},
     "output_type": "execute_result"
    }
   ],
   "source": [
    "A.characteristic_polynomial()"
   ]
  },
  {
   "cell_type": "markdown",
   "metadata": {},
   "source": [
    "Note that Sage works this out as $\\det(x\\mathbf{I}-A)$. We can check this, and we can even do it with $\\lambda$ instead of $x$ since that is usually the variable we use when working out by hand:"
   ]
  },
  {
   "cell_type": "code",
   "execution_count": 66,
   "metadata": {},
   "outputs": [
    {
     "data": {
      "text/html": [
       "<html><script type=\"math/tex; mode=display\">\\newcommand{\\Bold}[1]{\\mathbf{#1}}{\\lambda}^{2} + 7 \\, {\\lambda} + 12</script></html>"
      ],
      "text/plain": [
       "lam^2 + 7*lam + 12"
      ]
     },
     "execution_count": 66,
     "metadata": {},
     "output_type": "execute_result"
    }
   ],
   "source": [
    "var('lam', latex_name='\\lambda')\n",
    "(A+lam*matrix.identity(2)).determinant().expand()"
   ]
  },
  {
   "cell_type": "markdown",
   "metadata": {},
   "source": [
    "The eigenvalues of $A$ are just the roots of its characteristic polynomial, which we can find as follows:"
   ]
  },
  {
   "cell_type": "code",
   "execution_count": 67,
   "metadata": {},
   "outputs": [
    {
     "data": {
      "text/html": [
       "<html><script type=\"math/tex; mode=display\">\\newcommand{\\Bold}[1]{\\mathbf{#1}}\\left[\\left(4, 1\\right), \\left(3, 1\\right)\\right]</script></html>"
      ],
      "text/plain": [
       "[(4, 1), (3, 1)]"
      ]
     },
     "execution_count": 67,
     "metadata": {},
     "output_type": "execute_result"
    }
   ],
   "source": [
    "A.charpoly().roots()"
   ]
  },
  {
   "cell_type": "markdown",
   "metadata": {},
   "source": [
    "<span class=\"label label-danger\">Task</span> What are the roots? What do the $1$s mean?"
   ]
  },
  {
   "cell_type": "raw",
   "metadata": {},
   "source": [
    "roots are 4,1 and 1s are the multiplicity."
   ]
  },
  {
   "cell_type": "markdown",
   "metadata": {},
   "source": [
    "There is a function to just find the eigenvalues:"
   ]
  },
  {
   "cell_type": "code",
   "execution_count": 70,
   "metadata": {},
   "outputs": [
    {
     "data": {
      "text/html": [
       "<html><script type=\"math/tex; mode=display\">\\newcommand{\\Bold}[1]{\\mathbf{#1}}\\left[4, 3\\right]</script></html>"
      ],
      "text/plain": [
       "[4, 3]"
      ]
     },
     "execution_count": 70,
     "metadata": {},
     "output_type": "execute_result"
    }
   ],
   "source": [
    "A.eigenvalues()"
   ]
  },
  {
   "cell_type": "markdown",
   "metadata": {},
   "source": [
    "and one to find the corresponding eigenvectors:"
   ]
  },
  {
   "cell_type": "code",
   "execution_count": 71,
   "metadata": {},
   "outputs": [
    {
     "data": {
      "text/html": [
       "<html><script type=\"math/tex; mode=display\">\\newcommand{\\Bold}[1]{\\mathbf{#1}}\\left[\\left(4, \\left[\\left(1,\\,1\\right)\\right], 1\\right), \\left(3, \\left[\\left(1,\\,\\frac{2}{3}\\right)\\right], 1\\right)\\right]</script></html>"
      ],
      "text/plain": [
       "[(4, [\n",
       "  (1, 1)\n",
       "  ], 1), (3, [\n",
       "  (1, 2/3)\n",
       "  ], 1)]"
      ]
     },
     "execution_count": 71,
     "metadata": {},
     "output_type": "execute_result"
    }
   ],
   "source": [
    "A.eigenvectors_right()"
   ]
  },
  {
   "cell_type": "markdown",
   "metadata": {},
   "source": [
    "<span class=\"label label-danger\">Task</span> Interpreting this output is a bit tricky -- recall that we did this near the start of Lab 1. Write some code (like we used in Lab 1) to check that $4$ is indeed an eigenvalue with eigenvector $\\begin{pmatrix}1\\\\1\\end{pmatrix}$."
   ]
  },
  {
   "cell_type": "code",
   "execution_count": 75,
   "metadata": {},
   "outputs": [
    {
     "data": {
      "text/html": [
       "<html><script type=\"math/tex; mode=display\">\\newcommand{\\Bold}[1]{\\mathbf{#1}}\\left(\\left[\\left(1,\\,1\\right)\\right], 4\\right)</script></html>"
      ],
      "text/plain": [
       "([\n",
       " (1, 1)\n",
       " ], 4)"
      ]
     },
     "execution_count": 75,
     "metadata": {},
     "output_type": "execute_result"
    }
   ],
   "source": [
    "evec = A.eigenvectors_right()[0][1]\n",
    "eval1 = A.eigenvectors_right()[0][0]\n",
    "evec,eval1"
   ]
  },
  {
   "cell_type": "markdown",
   "metadata": {},
   "source": [
    "We can get the eigenvalues and eigenvectors in another form using `eigenmatrix_right()`, which returns matrices $D$ and $P$ so that $AP=PD$, with $D$ diagonal."
   ]
  },
  {
   "cell_type": "code",
   "execution_count": 76,
   "metadata": {},
   "outputs": [
    {
     "data": {
      "text/html": [
       "<html><script type=\"math/tex; mode=display\">\\newcommand{\\Bold}[1]{\\mathbf{#1}}\\left(\\left(\\begin{array}{rr}\n",
       "4 & 0 \\\\\n",
       "0 & 3\n",
       "\\end{array}\\right), \\left(\\begin{array}{rr}\n",
       "1 & 1 \\\\\n",
       "1 & \\frac{2}{3}\n",
       "\\end{array}\\right)\\right)</script></html>"
      ],
      "text/plain": [
       "(\n",
       "[4 0]  [  1   1]\n",
       "[0 3], [  1 2/3]\n",
       ")"
      ]
     },
     "metadata": {},
     "output_type": "display_data"
    },
    {
     "data": {
      "text/html": [
       "<html><script type=\"math/tex; mode=display\">\\newcommand{\\Bold}[1]{\\mathbf{#1}}\\mathrm{True}</script></html>"
      ],
      "text/plain": [
       "True"
      ]
     },
     "execution_count": 76,
     "metadata": {},
     "output_type": "execute_result"
    }
   ],
   "source": [
    "D, P = A.eigenmatrix_right()\n",
    "pretty_print((D, P))\n",
    "A*P == P*D"
   ]
  },
  {
   "cell_type": "markdown",
   "metadata": {},
   "source": [
    "<div class=\"alert alert-info\">\n",
    "    <h3>Exercise 2.1</h3>\n",
    "    \n",
    "Find the eigenvalues and eigenvectors of the following matrices, and make sure you understand the output in each case:\n",
    "    \n",
    "**(a)** $\\begin{pmatrix}2 & 7 \\\\ -1 & -6\\end{pmatrix}$\n",
    "\n",
    "**(b)** $\\begin{pmatrix}1 & 2 & 0 \\\\ -1 &-1& 1 \\\\ 0 & 1 & 1\\end{pmatrix}$\n",
    "\n",
    "**(c)** $\\begin{pmatrix}0 & -1 \\\\ 1 & 0\\end{pmatrix}$\n",
    "\n",
    "</div>"
   ]
  },
  {
   "cell_type": "code",
   "execution_count": 78,
   "metadata": {},
   "outputs": [
    {
     "data": {
      "text/html": [
       "<html><script type=\"math/tex; mode=display\">\\newcommand{\\Bold}[1]{\\mathbf{#1}}\\left(\\left(\\begin{array}{rr}\n",
       "1 & 0 \\\\\n",
       "0 & -5\n",
       "\\end{array}\\right), \\left(\\begin{array}{rr}\n",
       "1 & 1 \\\\\n",
       "-\\frac{1}{7} & -1\n",
       "\\end{array}\\right)\\right)</script></html>"
      ],
      "text/plain": [
       "(\n",
       "[ 1  0]  [   1    1]\n",
       "[ 0 -5], [-1/7   -1]\n",
       ")"
      ]
     },
     "metadata": {},
     "output_type": "display_data"
    }
   ],
   "source": [
    "A = matrix(ZZ, [[2,7],[-1,-6]])\n",
    "D, P = A.eigenmatrix_right()\n",
    "pretty_print((D, P))"
   ]
  },
  {
   "cell_type": "code",
   "execution_count": 79,
   "metadata": {},
   "outputs": [
    {
     "data": {
      "text/html": [
       "<html><script type=\"math/tex; mode=display\">\\newcommand{\\Bold}[1]{\\mathbf{#1}}\\left(\\left(\\begin{array}{rrr}\n",
       "1 & 0 & 0 \\\\\n",
       "0 & 0 & 0 \\\\\n",
       "0 & 0 & 0\n",
       "\\end{array}\\right), \\left(\\begin{array}{rrr}\n",
       "1 & 1 & 0 \\\\\n",
       "0 & -\\frac{1}{2} & 0 \\\\\n",
       "1 & \\frac{1}{2} & 0\n",
       "\\end{array}\\right)\\right)</script></html>"
      ],
      "text/plain": [
       "(\n",
       "[1 0 0]  [   1    1    0]\n",
       "[0 0 0]  [   0 -1/2    0]\n",
       "[0 0 0], [   1  1/2    0]\n",
       ")"
      ]
     },
     "metadata": {},
     "output_type": "display_data"
    }
   ],
   "source": [
    "A = matrix(ZZ, [[1,2,0],[-1,-1,1],[0,1,1]])\n",
    "D, P = A.eigenmatrix_right()\n",
    "pretty_print((D, P))"
   ]
  },
  {
   "cell_type": "code",
   "execution_count": 80,
   "metadata": {},
   "outputs": [
    {
     "data": {
      "text/html": [
       "<html><script type=\"math/tex; mode=display\">\\newcommand{\\Bold}[1]{\\mathbf{#1}}\\left(\\left(\\begin{array}{rr}\n",
       "-1 \\sqrt{-1} & 0 \\\\\n",
       "0 & 1 \\sqrt{-1}\n",
       "\\end{array}\\right), \\left(\\begin{array}{rr}\n",
       "1 & 1 \\\\\n",
       "1 \\sqrt{-1} & -1 \\sqrt{-1}\n",
       "\\end{array}\\right)\\right)</script></html>"
      ],
      "text/plain": [
       "(\n",
       "[-1*I    0]  [   1    1]\n",
       "[   0  1*I], [ 1*I -1*I]\n",
       ")"
      ]
     },
     "metadata": {},
     "output_type": "display_data"
    }
   ],
   "source": [
    "A = matrix(ZZ, [[0,-1],[1,0]])\n",
    "D, P = A.eigenmatrix_right()\n",
    "pretty_print((D, P))"
   ]
  },
  {
   "cell_type": "markdown",
   "metadata": {},
   "source": [
    "For the last part, you should have found complex numbers appearing. To get a more elegant presentation of the results, we can work with matrices over the \"symbolic ring\", which allows for matrices to have entries beyond $\\mathbf{Z}$ or $\\mathbf{Q}$ as we have been considering so far:"
   ]
  },
  {
   "cell_type": "code",
   "execution_count": 81,
   "metadata": {},
   "outputs": [
    {
     "data": {
      "text/html": [
       "<html><script type=\"math/tex; mode=display\">\\newcommand{\\Bold}[1]{\\mathbf{#1}}\\left[\\left(-i, \\left[\\left(1,\\,i\\right)\\right], 1\\right), \\left(i, \\left[\\left(1,\\,-i\\right)\\right], 1\\right)\\right]</script></html>"
      ],
      "text/plain": [
       "[(-I, [(1, I)], 1), (I, [(1, -I)], 1)]"
      ]
     },
     "execution_count": 81,
     "metadata": {},
     "output_type": "execute_result"
    }
   ],
   "source": [
    "matrix(SR, [[0, -1], [1, 0]]).eigenvectors_right()"
   ]
  },
  {
   "cell_type": "code",
   "execution_count": 82,
   "metadata": {},
   "outputs": [
    {
     "data": {
      "text/html": [
       "<html><script type=\"math/tex; mode=display\">\\newcommand{\\Bold}[1]{\\mathbf{#1}}-1</script></html>"
      ],
      "text/plain": [
       "-1"
      ]
     },
     "execution_count": 82,
     "metadata": {},
     "output_type": "execute_result"
    }
   ],
   "source": [
    "out = matrix(SR, [[0, -1], [1, 0]]).eigenvectors_right()\n",
    "eval1 = out[0][0]\n",
    "eval1^2"
   ]
  },
  {
   "cell_type": "markdown",
   "metadata": {},
   "source": [
    "## 3. Gerschgorin discs\n",
    "\n",
    "We will now look at a way to approximate the eigenvalues of a matrix; you may recall seeing this in _Introduction to Linear Algebra_ (see p330 of Poole's book).\n",
    "\n",
    "Here is the definition from [Wikipedia](https://en.wikipedia.org/wiki/Gershgorin_circle_theorem):\n",
    "\n",
    "> Let $A$ be a complex $n\\times n$ matrix, with entries $a_{ij}$. For $i \\in\\{1,\\dots,n\\}$ let $R_i = \\sum_{j\\neq{i}} \\left|a_{ij}\\right|$ be the sum of the absolute values of the non-diagonal entries in the $i$-th row.  Let $D(a_{ii}, R_i ) \\subseteq \\mathbf{C}$ be a closed disc centered at $a_{ii}$ with radius $R_i$. Such a disc is called a **Gershgorin disc**.\n",
    ">\n",
    "> **Theorem**: Every eigenvalue of $ A $ lies within at least one of the Gershgorin discs.\n",
    "\n",
    "Let's build up a picture of the Gerschgorin discs for an example (see Example 4.36 in Poole)."
   ]
  },
  {
   "cell_type": "code",
   "execution_count": 83,
   "metadata": {},
   "outputs": [
    {
     "data": {
      "text/html": [
       "<html><script type=\"math/tex; mode=display\">\\newcommand{\\Bold}[1]{\\mathbf{#1}}\\left(\\begin{array}{rrr}\n",
       "2 & 1 & 0 \\\\\n",
       "\\frac{1}{2} & 6 & \\frac{1}{2} \\\\\n",
       "2 & 0 & 8\n",
       "\\end{array}\\right)</script></html>"
      ],
      "text/plain": [
       "[  2   1   0]\n",
       "[1/2   6 1/2]\n",
       "[  2   0   8]"
      ]
     },
     "execution_count": 83,
     "metadata": {},
     "output_type": "execute_result"
    }
   ],
   "source": [
    "A = matrix(SR, [[2,1,0],[1/2,6,1/2],[2, 0, 8]])\n",
    "A"
   ]
  },
  {
   "cell_type": "markdown",
   "metadata": {},
   "source": [
    "First we need to find the values $R_i$:"
   ]
  },
  {
   "cell_type": "code",
   "execution_count": 86,
   "metadata": {},
   "outputs": [
    {
     "name": "stdout",
     "output_type": "stream",
     "text": [
      "1\n",
      "1\n",
      "2\n"
     ]
    }
   ],
   "source": [
    "n = A.nrows()\n",
    "for i in range(n):\n",
    "    Ri = sum([abs(A[i][j]) for j in range(n) if i!=j])\n",
    "    print(Ri)"
   ]
  },
  {
   "cell_type": "markdown",
   "metadata": {},
   "source": [
    "<span class=\"label label-danger\">Task</span> Instead of a loop, use a list comprehension to produce a list `Ri_values` containing these values. So you should end up with `Ri_values == [1, 1, 2]`."
   ]
  },
  {
   "cell_type": "code",
   "execution_count": 88,
   "metadata": {},
   "outputs": [
    {
     "data": {
      "text/html": [
       "<html><script type=\"math/tex; mode=display\">\\newcommand{\\Bold}[1]{\\mathbf{#1}}\\mathrm{True}</script></html>"
      ],
      "text/plain": [
       "True"
      ]
     },
     "execution_count": 88,
     "metadata": {},
     "output_type": "execute_result"
    }
   ],
   "source": [
    "n = A.nrows()\n",
    "Ri_values= [sum([abs(A[i][j]) for j in range(n) if i!=j]) for i in range(n)]\n",
    "Ri_values == [1,1,2]"
   ]
  },
  {
   "cell_type": "markdown",
   "metadata": {},
   "source": [
    "Now we can use the `disk` function to actually plot the discs -- first we produce a list `Ri_disks` which contains a plot of each disc separately, then we use `add` to combine all the plots into one:"
   ]
  },
  {
   "cell_type": "code",
   "execution_count": 90,
   "metadata": {},
   "outputs": [
    {
     "data": {
      "image/png": "[encoded data removed]",
      "text/plain": [
       "Graphics object consisting of 3 graphics primitives"
      ]
     },
     "execution_count": 90,
     "metadata": {},
     "output_type": "execute_result"
    }
   ],
   "source": [
    "disks = []\n",
    "for i in range(n):\n",
    "    Ri=sum([abs(A[i][j]) for j in range(n) if i!=j])\n",
    "    disks.append(disk((real_part(A[i][i]),imag_part(A[i][i])), Ri, (0,2*pi),alpha=0.3, thickness=1))\n",
    "add(disks)"
   ]
  },
  {
   "cell_type": "code",
   "execution_count": 91,
   "metadata": {},
   "outputs": [
    {
     "data": {
      "image/png": "[encoded data removed]",
      "text/plain": [
       "Graphics object consisting of 3 graphics primitives"
      ]
     },
     "execution_count": 91,
     "metadata": {},
     "output_type": "execute_result"
    }
   ],
   "source": [
    "disks = [disk((real_part(A[i][i]),imag_part(A[i][i])), sum([abs(A[i][j]) for j in range(n) if i!=j]), (0,2*pi),alpha=0.3, thickness=1) for i in range(n)]\n",
    "add(disks)"
   ]
  },
  {
   "cell_type": "markdown",
   "metadata": {},
   "source": [
    "<span class=\"label label-danger\">Task</span> Improve the appearance of the plot by using optional arguments to `disk`, for instance you could add:\n",
    "``` \n",
    "alpha=0.3, thickness=1\n",
    "```\n",
    "Also, try producing the list with a list comprehension rather than a loop."
   ]
  },
  {
   "cell_type": "markdown",
   "metadata": {},
   "source": [
    "### Plotting the eigenvalues\n",
    "\n",
    "We can add points to the plot to show the location of the eigenvalues, by getting Sage to work them out:"
   ]
  },
  {
   "cell_type": "code",
   "execution_count": 92,
   "metadata": {},
   "outputs": [
    {
     "data": {
      "text/html": [
       "<html><script type=\"math/tex; mode=display\">\\newcommand{\\Bold}[1]{\\mathbf{#1}}\\left[-\\frac{1}{2} \\, \\sqrt{38} + 5, \\frac{1}{2} \\, \\sqrt{38} + 5, 6\\right]</script></html>"
      ],
      "text/plain": [
       "[-1/2*sqrt(38) + 5, 1/2*sqrt(38) + 5, 6]"
      ]
     },
     "execution_count": 92,
     "metadata": {},
     "output_type": "execute_result"
    }
   ],
   "source": [
    "A.eigenvalues()"
   ]
  },
  {
   "cell_type": "code",
   "execution_count": 93,
   "metadata": {},
   "outputs": [
    {
     "data": {
      "image/png": "[encoded data removed]",
      "text/plain": [
       "Graphics object consisting of 6 graphics primitives"
      ]
     },
     "execution_count": 93,
     "metadata": {},
     "output_type": "execute_result"
    }
   ],
   "source": [
    "disks = []\n",
    "for i in range(n):\n",
    "    Ri=sum([abs(A[i][j]) for j in range(n) if i!=j])\n",
    "    disks.append(disk((real_part(A[i][i]),imag_part(A[i][i])), Ri, (0,2*pi), alpha=0.3, thickness=1))\n",
    "    disks.append(point((A.eigenvalues()[i], 0), size=20, rgbcolor=(1,0,0)))\n",
    "add(disks)"
   ]
  },
  {
   "cell_type": "markdown",
   "metadata": {},
   "source": [
    "<div class=\"alert alert-info\">\n",
    "    <h3>Exercise 3.1</h3>\n",
    "    \n",
    "The example we have been considering has real eigenvalues, but in general the eigenvalues could be complex.\n",
    "\n",
    "**(a)** Use a list comprehension to convert the list `A.eigenvalues()` into a list of coordinates in the complex plane, i.e. to convert each of the eigenvalues $z$ into $[Re(z), Im(z)]$.\n",
    "\n",
    "**(b)** Use this approach on the matrix $\\begin{pmatrix}0 & -1 \\\\ 1 & 0\\end{pmatrix}$, so you should produce a list of the coordinates of its eigenvalues in the complex plane. (The result should be `[[0,−1],[0,1]]`.)\n",
    "\n",
    "</div>"
   ]
  },
  {
   "cell_type": "code",
   "execution_count": 94,
   "metadata": {},
   "outputs": [
    {
     "data": {
      "text/html": [
       "<html><script type=\"math/tex; mode=display\">\\newcommand{\\Bold}[1]{\\mathbf{#1}}\\left[\\left[-\\frac{1}{2} \\, \\sqrt{38} + 5, 0\\right], \\left[\\frac{1}{2} \\, \\sqrt{38} + 5, 0\\right], \\left[6, 0\\right]\\right]</script></html>"
      ],
      "text/plain": [
       "[[-1/2*sqrt(38) + 5, 0], [1/2*sqrt(38) + 5, 0], [6, 0]]"
      ]
     },
     "execution_count": 94,
     "metadata": {},
     "output_type": "execute_result"
    }
   ],
   "source": [
    "[[z.real_part(), z.imag_part()] for z in A.eigenvalues()]"
   ]
  },
  {
   "cell_type": "code",
   "execution_count": 96,
   "metadata": {},
   "outputs": [
    {
     "data": {
      "text/html": [
       "<html><script type=\"math/tex; mode=display\">\\newcommand{\\Bold}[1]{\\mathbf{#1}}\\left[\\left[0, -1\\right], \\left[0, 1\\right]\\right]</script></html>"
      ],
      "text/plain": [
       "[[0, -1], [0, 1]]"
      ]
     },
     "execution_count": 96,
     "metadata": {},
     "output_type": "execute_result"
    }
   ],
   "source": [
    "R90 = matrix(SR, [[0, -1], [1, 0]])\n",
    "[[z.real_part(), z.imag_part()] for z in R90.eigenvalues()]"
   ]
  },
  {
   "cell_type": "markdown",
   "metadata": {},
   "source": [
    "<div class=\"alert alert-info\">\n",
    "    <h3>Exercise 3.2</h3>\n",
    "    \n",
    "**(a)** Write a procedure `g_discs` which takes in a square matrix `A` and produces a plot of its Gerschgorin disks. The plot should also include the actual locations of the eigenvalues. So for instance, `g_discs(A)` should produce the same plot as above (immediately before Exercise 3.1).\n",
    "\n",
    "**(b)** Check your procedure on these matrices. (Note that to define these matrices, you should use `matrix(SR, ...` and capital `I` to stand for $i$.)\n",
    "\n",
    "*(i)*  $\\begin{pmatrix}2 & -i & 0 \\\\\n",
    "1 & 2 i & 1+i \\\\\n",
    "0 & 1 & -2 i\\end{pmatrix}$\n",
    "\n",
    "*(ii)* $\\begin{pmatrix}4-3 i & i & 2 & -2 \\\\\n",
    "i & -1+i & 0 & 0 \\\\\n",
    "i + 1 & -i & 5+6 i & 2 i \\\\\n",
    "1 & -2 i & 2 i & -5-5 i\\end{pmatrix}$\n",
    "\n",
    "*(iii)* $\\begin{pmatrix}2 & \\frac{1}{2} & 0 & 0 \\\\\n",
    "\\frac{1}{4} & 4 & \\frac{1}{4} & 0 \\\\\n",
    "0 & \\frac{1}{6} & 6 & \\frac{1}{6} \\\\\n",
    "0 & 0 & \\frac{1}{8} & 8\\end{pmatrix}$\n",
    "\n",
    "*Note:* some of these may take quite a long time to plot, because of the computations involved in finding the eigenvalues exactly.\n",
    "\n",
    "</div>"
   ]
  },
  {
   "cell_type": "code",
   "execution_count": 107,
   "metadata": {},
   "outputs": [],
   "source": [
    "def g_discs(A):\n",
    "    eigenvalues = [[z.real_part(), z.imag_part()] for z in A.eigenvalues()]\n",
    "    disks = []\n",
    "    n = A.nrows()\n",
    "    for i in range(n):\n",
    "        Ri=sum([abs(A[i][j]) for j in range(n) if i!=j])\n",
    "        disks.append(disk((real_part(A[i][i]),imag_part(A[i][i])), Ri, (0,2*pi), alpha=0.3, thickness=1))\n",
    "        disks.append(point(eigenvalues[i], size=20, rgbcolor=(1,0,0)))\n",
    "    return add(disks)"
   ]
  },
  {
   "cell_type": "code",
   "execution_count": 108,
   "metadata": {},
   "outputs": [
    {
     "data": {
      "image/png": "[encoded data removed]",
      "text/plain": [
       "Graphics object consisting of 6 graphics primitives"
      ]
     },
     "execution_count": 108,
     "metadata": {},
     "output_type": "execute_result"
    }
   ],
   "source": [
    "g_discs(A)"
   ]
  },
  {
   "cell_type": "code",
   "execution_count": 114,
   "metadata": {},
   "outputs": [],
   "source": [
    "bi = matrix(SR, [[2,-I,0],[1,2*I,1+I],[0, 1, -2*I]])\n",
    "bii = matrix(SR, [[4-3*I,I,2,-2],[I,-1+I,0,0],[I+1, -I, 5+6*I,2*I],[1, -2*I, 2*I,-5-5*I]])\n",
    "biii = matrix(SR, [[2,1/2,0,0],[1/4,4,1/4,0],[0, 1/6,6,1/6],[0, 0, 1/8,8]])"
   ]
  },
  {
   "cell_type": "code",
   "execution_count": 110,
   "metadata": {},
   "outputs": [
    {
     "data": {
      "image/png": "[encoded data removed]",
      "text/plain": [
       "Graphics object consisting of 6 graphics primitives"
      ]
     },
     "execution_count": 110,
     "metadata": {},
     "output_type": "execute_result"
    }
   ],
   "source": [
    "g_discs(bi)"
   ]
  },
  {
   "cell_type": "code",
   "execution_count": 115,
   "metadata": {},
   "outputs": [
    {
     "data": {
      "image/png": "[encoded data removed]",
      "text/plain": [
       "Graphics object consisting of 8 graphics primitives"
      ]
     },
     "execution_count": 115,
     "metadata": {},
     "output_type": "execute_result"
    }
   ],
   "source": [
    "g_discs(bii)"
   ]
  },
  {
   "cell_type": "code",
   "execution_count": 116,
   "metadata": {},
   "outputs": [
    {
     "data": {
      "image/png": "[encoded data removed]",
      "text/plain": [
       "Graphics object consisting of 8 graphics primitives"
      ]
     },
     "execution_count": 116,
     "metadata": {},
     "output_type": "execute_result"
    }
   ],
   "source": [
    "g_discs(biii)"
   ]
  },
  {
   "cell_type": "markdown",
   "metadata": {},
   "source": [
    "## 4. Computing eigenvalues iteratively\n",
    "\n",
    "If an $n\\times n$ matrix has a *dominant eigenvalue* (meaning one which is strictly larger in absolute value than all the others), then we can compute it - and the corresponding *dominant eigenvector* - using an iterative approach.\n",
    "\n",
    "(The approach we are using is the \"power method\" - see p322 of Poole.)"
   ]
  },
  {
   "cell_type": "code",
   "execution_count": 118,
   "metadata": {},
   "outputs": [
    {
     "data": {
      "text/html": [
       "<html><script type=\"math/tex; mode=display\">\\newcommand{\\Bold}[1]{\\mathbf{#1}}\\left[\\left(1,\\,0\\right), \\left(1,\\,2\\right), \\left(3,\\,2\\right), \\left(5,\\,6\\right), \\left(11,\\,10\\right), \\left(21,\\,22\\right), \\left(43,\\,42\\right), \\left(85,\\,86\\right), \\left(171,\\,170\\right), \\left(341,\\,342\\right), \\left(683,\\,682\\right)\\right]</script></html>"
      ],
      "text/plain": [
       "[(1, 0),\n",
       " (1, 2),\n",
       " (3, 2),\n",
       " (5, 6),\n",
       " (11, 10),\n",
       " (21, 22),\n",
       " (43, 42),\n",
       " (85, 86),\n",
       " (171, 170),\n",
       " (341, 342),\n",
       " (683, 682)]"
      ]
     },
     "execution_count": 118,
     "metadata": {},
     "output_type": "execute_result"
    }
   ],
   "source": [
    "A = matrix(QQ, [[1,1],[2,0]])\n",
    "xs = [vector([1,0])] # an initial guess\n",
    "for i in range(10):\n",
    "    xs.append(A*xs[i])\n",
    "xs"
   ]
  },
  {
   "cell_type": "markdown",
   "metadata": {},
   "source": [
    "This shows the sequence of vectors we obtain by successive applications of $A$. Notice that they are all in roughly the same direction, being quite close to scaled versions of $\\begin{pmatrix}1 \\\\ 1\\end{pmatrix}$.\n",
    "\n",
    "In fact, the ratio of the first component to the second is approaching 1:"
   ]
  },
  {
   "cell_type": "code",
   "execution_count": 119,
   "metadata": {},
   "outputs": [
    {
     "data": {
      "text/html": [
       "<html><script type=\"math/tex; mode=display\">\\newcommand{\\Bold}[1]{\\mathbf{#1}}\\left[\\frac{1}{2}, \\frac{3}{2}, \\frac{5}{6}, \\frac{11}{10}, \\frac{21}{22}, \\frac{43}{42}, \\frac{85}{86}, \\frac{171}{170}, \\frac{341}{342}, \\frac{683}{682}\\right]</script></html>"
      ],
      "text/plain": [
       "[1/2, 3/2, 5/6, 11/10, 21/22, 43/42, 85/86, 171/170, 341/342, 683/682]"
      ]
     },
     "execution_count": 119,
     "metadata": {},
     "output_type": "execute_result"
    }
   ],
   "source": [
    "[v[0]/v[1] for v in xs if v[1]!=0]"
   ]
  },
  {
   "cell_type": "code",
   "execution_count": 120,
   "metadata": {},
   "outputs": [
    {
     "name": "stdout",
     "output_type": "stream",
     "text": [
      "[0.500000000000000, 1.50000000000000, 0.833333333333333, 1.10000000000000, 0.954545454545455, 1.02380952380952, 0.988372093023256, 1.00588235294118, 0.997076023391813, 1.00146627565982]\n"
     ]
    }
   ],
   "source": [
    "print([N(v[0]/v[1]) for v in xs if v[1]!=0])"
   ]
  },
  {
   "cell_type": "markdown",
   "metadata": {},
   "source": [
    "This suggests that $\\begin{pmatrix}1 \\\\ 1\\end{pmatrix}$ is an eigenvector of $A$.\n",
    "\n",
    "Now if $x_i=$ `xs[i]` is close to being an eigenvector of $A$ then we would expect $Ax_i\\approx\\lambda x_i$ (where $\\lambda$ is the eigenvalue). Since $Ax_i=x_{i+1}$ (`A*xs[i]=xs[i+1]`), we should have $x_{i+1}\\approx \\lambda x_i$.\n",
    "\n",
    "So if we look at the first components of `xs[i+1]` and `xs[i]`, the ratio should approach $\\lambda$:"
   ]
  },
  {
   "cell_type": "code",
   "execution_count": 121,
   "metadata": {},
   "outputs": [
    {
     "name": "stdout",
     "output_type": "stream",
     "text": [
      "[3.00000000000000, 1.66666666666667, 2.20000000000000, 1.90909090909091, 2.04761904761905, 1.97674418604651, 2.01176470588235, 1.99415204678363, 2.00293255131965]\n"
     ]
    }
   ],
   "source": [
    "print([N(xs[i+1][0]/xs[i][0]) for i in [1..9]])"
   ]
  },
  {
   "cell_type": "markdown",
   "metadata": {},
   "source": [
    "These seem to be approaching 2, suggesting that is the eigenvalue.\n",
    "\n",
    "We can check against Sage's exact calculation:"
   ]
  },
  {
   "cell_type": "code",
   "execution_count": 122,
   "metadata": {},
   "outputs": [
    {
     "data": {
      "text/html": [
       "<html><script type=\"math/tex; mode=display\">\\newcommand{\\Bold}[1]{\\mathbf{#1}}\\left(\\left(\\begin{array}{rr}\n",
       "2 & 0 \\\\\n",
       "0 & -1\n",
       "\\end{array}\\right), \\left(\\begin{array}{rr}\n",
       "1 & 1 \\\\\n",
       "1 & -2\n",
       "\\end{array}\\right)\\right)</script></html>"
      ],
      "text/plain": [
       "(\n",
       "[ 2  0]  [ 1  1]\n",
       "[ 0 -1], [ 1 -2]\n",
       ")"
      ]
     },
     "execution_count": 122,
     "metadata": {},
     "output_type": "execute_result"
    }
   ],
   "source": [
    "A.right_eigenmatrix()"
   ]
  },
  {
   "cell_type": "markdown",
   "metadata": {},
   "source": [
    "<div class=\"alert alert-info\">\n",
    "    <h3>Exercise 4.1</h3>\n",
    "    \n",
    "Modify this code so that at each step, the new vector `A*xs[i]` is rescaled so that the largest entry is 1. (Use `v.norm(Infinity)` to find the component of `v` with the largest absolute value, i.e. the \"infinity norm\" of the vector).\n",
    "\n",
    "You should store the rescaling value at each stage, building up the list `ms`. You should then find that the `xs` are converging to the eigenvector and the `ms` to the eigenvalue. Demonstrate this for the matrix $\\begin{pmatrix}8 & 2 \\\\ 3&3\\end{pmatrix}$.\n",
    "\n",
    "</div>"
   ]
  },
  {
   "cell_type": "code",
   "execution_count": 143,
   "metadata": {},
   "outputs": [
    {
     "data": {
      "text/html": [
       "<html><script type=\"math/tex; mode=display\">\\newcommand{\\Bold}[1]{\\mathbf{#1}}\\left(\\left[\\left(1,\\,0\\right), \\left(1,\\,2\\right), \\left(\\frac{3}{2},\\,1\\right), \\left(\\frac{5}{3},\\,2\\right), \\left(\\frac{11}{6},\\,\\frac{5}{3}\\right), \\left(\\frac{21}{11},\\,2\\right), \\left(\\frac{43}{22},\\,\\frac{21}{11}\\right), \\left(\\frac{85}{43},\\,2\\right), \\left(\\frac{171}{86},\\,\\frac{85}{43}\\right), \\left(\\frac{341}{171},\\,2\\right), \\left(\\frac{683}{342},\\,\\frac{341}{171}\\right)\\right], \\left[1, 2, \\frac{3}{2}, 2, \\frac{11}{6}, 2, \\frac{43}{22}, 2, \\frac{171}{86}, 2\\right]\\right)</script></html>"
      ],
      "text/plain": [
       "([(1, 0),\n",
       "  (1, 2),\n",
       "  (3/2, 1),\n",
       "  (5/3, 2),\n",
       "  (11/6, 5/3),\n",
       "  (21/11, 2),\n",
       "  (43/22, 21/11),\n",
       "  (85/43, 2),\n",
       "  (171/86, 85/43),\n",
       "  (341/171, 2),\n",
       "  (683/342, 341/171)],\n",
       " [1, 2, 3/2, 2, 11/6, 2, 43/22, 2, 171/86, 2])"
      ]
     },
     "execution_count": 143,
     "metadata": {},
     "output_type": "execute_result"
    }
   ],
   "source": [
    "A = matrix(QQ, [[1,1],[2,0]])\n",
    "xs = [vector([1,0])] # an initial guess\n",
    "ms = []\n",
    "for i in range(10):\n",
    "    xs.append((A*xs[i])/xs[i].norm(Infinity))\n",
    "    ms.append(xs[i].norm(Infinity))\n",
    "xs,ms"
   ]
  },
  {
   "cell_type": "code",
   "execution_count": null,
   "metadata": {},
   "outputs": [],
   "source": []
  }
 ],
 "metadata": {
  "kernelspec": {
   "display_name": "SageMath 8.8",
   "language": "sage",
   "name": "sagemath"
  },
  "language_info": {
   "codemirror_mode": {
    "name": "ipython",
    "version": 2
   },
   "file_extension": ".py",
   "mimetype": "text/x-python",
   "name": "python",
   "nbconvert_exporter": "python",
   "pygments_lexer": "ipython2",
   "version": "2.7.15"
  }
 },
 "nbformat": 4,
 "nbformat_minor": 2
}
