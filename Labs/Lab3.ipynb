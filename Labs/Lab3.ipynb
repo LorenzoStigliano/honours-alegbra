{
 "cells": [
  {
   "cell_type": "markdown",
   "metadata": {},
   "source": [
    "# Lab 3: Further matrix calculations\n",
    "\n"
   ]
  },
  {
   "cell_type": "markdown",
   "metadata": {},
   "source": [
    "## 1. Matrix multiplication\n",
    "\n",
    "Here we will return to the work you did in Lab 1, where section 3 was on matrix multiplication.\n",
    "\n",
    "Our goal here is to compare the running time of your `mult` procedure with that of the built-in matrix multiplication (e.g. the result of doing `A*B`). We already did that quickly using `%timeit` in Lab 1, but here we will do a deeper anaylsis using the technique used in Lab 2 for `time_discrete_log`.\n",
    "\n",
    "Note that you can generate random matrices for testing using this command:"
   ]
  },
  {
   "cell_type": "code",
   "execution_count": 1,
   "metadata": {},
   "outputs": [
    {
     "data": {
      "text/html": [
       "<html><script type=\"math/tex; mode=display\">\\newcommand{\\Bold}[1]{\\mathbf{#1}}\\left(\\left(\\begin{array}{rrrrr}\n",
       "0 & 0 & 1 & 0 & 0 \\\\\n",
       "-1 & 2 & 4 & 17 & 0 \\\\\n",
       "-1 & 4 & 8 & -1 & 0 \\\\\n",
       "3 & 1 & 1 & -1 & -1 \\\\\n",
       "0 & -1 & -1 & -1 & 1\n",
       "\\end{array}\\right), \\left(\\begin{array}{rrrrr}\n",
       "0 & 2 & 0 & 0 & -1 \\\\\n",
       "-1 & -1 & -1 & 4 & 0 \\\\\n",
       "1 & 497 & 1 & -1 & -1 \\\\\n",
       "1 & 1 & -1 & -1 & 0 \\\\\n",
       "-1 & 2 & -22 & 0 & 34\n",
       "\\end{array}\\right)\\right)</script></html>"
      ],
      "text/plain": [
       "(\n",
       "[ 0  0  1  0  0]  [  0   2   0   0  -1]\n",
       "[-1  2  4 17  0]  [ -1  -1  -1   4   0]\n",
       "[-1  4  8 -1  0]  [  1 497   1  -1  -1]\n",
       "[ 3  1  1 -1 -1]  [  1   1  -1  -1   0]\n",
       "[ 0 -1 -1 -1  1], [ -1   2 -22   0  34]\n",
       ")"
      ]
     },
     "execution_count": 1,
     "metadata": {},
     "output_type": "execute_result"
    }
   ],
   "source": [
    "%display latex\n",
    "A = random_matrix(ZZ, 5, 5)\n",
    "B = random_matrix(ZZ, 5, 5)\n",
    "A, B"
   ]
  },
  {
   "cell_type": "markdown",
   "metadata": {},
   "source": [
    "Recall from Lab 2 that we can use `time.time()` to measure the running time of some code. Here we record the running time to multiply two random $100\\times100$ matrices:"
   ]
  },
  {
   "cell_type": "code",
   "execution_count": 4,
   "metadata": {},
   "outputs": [
    {
     "name": "stdout",
     "output_type": "stream",
     "text": [
      "0.00221014022827\n"
     ]
    }
   ],
   "source": [
    "import time\n",
    "A = random_matrix(ZZ,100,100)\n",
    "B = random_matrix(ZZ,100,100)\n",
    "start_time = time.time() \n",
    "A*B\n",
    "print(time.time() - start_time)"
   ]
  },
  {
   "cell_type": "markdown",
   "metadata": {},
   "source": [
    "<div class=\"alert alert-info\">\n",
    "    <h3>Exercise 1.1</h3>\n",
    "    \n",
    "**(a)** Write a function `time_mult` that takes in an integer $N$, and returns the time taken by `mult` to multiply two randomly-generated $N\\times N$ matrices.\n",
    "\n",
    "**(b)** Produce a plot of running time against size of matrix for the two methods (`mult` and the built-in version). These should be on the same plot, shown with different colours.\n",
    "\n",
    "**(c)** Comment on the results -- for example, does it look like there is a long-term trend?\n",
    "\n",
    "</div>"
   ]
  },
  {
   "cell_type": "code",
   "execution_count": 6,
   "metadata": {},
   "outputs": [],
   "source": [
    "def mult(A,B):\n",
    "    numrowsA=A.nrows()\n",
    "    numcolsA=A.ncols()\n",
    "    numcolsB=B.ncols()\n",
    "    AB=Matrix(QQ,numrowsA,numcolsB)\n",
    "    for i in range(numrowsA):\n",
    "        for j in range(numcolsB):\n",
    "            for k in range(numcolsA):\n",
    "                AB[i,j]=A[i,k]*B[k,j]+AB[i,j]\n",
    "    return AB"
   ]
  },
  {
   "cell_type": "code",
   "execution_count": 7,
   "metadata": {},
   "outputs": [],
   "source": [
    "def time_mult(n):\n",
    "    A = random_matrix(ZZ,n,n)\n",
    "    B = random_matrix(ZZ,n,n)\n",
    "    start_time = time.time() \n",
    "    mult(A,B)\n",
    "    return time.time() - start_time"
   ]
  },
  {
   "cell_type": "code",
   "execution_count": 8,
   "metadata": {},
   "outputs": [],
   "source": [
    "def time_builtin(n):\n",
    "    A = random_matrix(ZZ,n,n)\n",
    "    B = random_matrix(ZZ,n,n)\n",
    "    start_time = time.time() \n",
    "    A*B\n",
    "    return time.time() - start_time"
   ]
  },
  {
   "cell_type": "code",
   "execution_count": 9,
   "metadata": {},
   "outputs": [],
   "source": [
    "times_builtin = [ time_builtin(n) for n in range(1,99)]\n",
    "times_mult = [time_mult(n) for n in range(1,99)]"
   ]
  },
  {
   "cell_type": "code",
   "execution_count": 7,
   "metadata": {},
   "outputs": [
    {
     "data": {
      "text/html": [
       "<html><script type=\"math/tex; mode=display\">\\newcommand{\\Bold}[1]{\\mathbf{#1}}\\verb|Figure(640x480)|</script></html>"
      ],
      "text/plain": [
       "<Figure size 640x480 with 1 Axes>"
      ]
     },
     "metadata": {},
     "output_type": "display_data"
    }
   ],
   "source": [
    "size = [n for n in range(1,99)]\n",
    "import matplotlib.pyplot as plt\n",
    "\n",
    "ax = plt.subplot(111)\n",
    "\n",
    "\n",
    "plt.scatter(size,times_builtin,label=\"Built in function\")\n",
    "plt.scatter(size,times_mult,label=\"Mult function\")\n",
    "\n",
    "plt.legend()\n",
    "\n",
    "plt.title('Running time against matrix size')\n",
    "plt.ylabel(\"Time taken (sec)\")\n",
    "plt.xlabel('Size of matrix (int)')\n",
    "\n",
    "plt.show()"
   ]
  },
  {
   "cell_type": "markdown",
   "metadata": {},
   "source": [
    "## 2. Polynomial interpolation\n",
    "\n",
    "Our goal here is to find a polynomial which \"goes through\" some given points. More precisely, a polynomial $P$ so that $P(x_i) = y_i$ for some given pairs of points $(x_i, y_i)$, $1\\leq i \\leq n$.\n",
    "\n",
    "We will start with the following list of points to get a feel for the method:"
   ]
  },
  {
   "cell_type": "code",
   "execution_count": 8,
   "metadata": {},
   "outputs": [],
   "source": [
    "pts = [[1,1], [2,2], [3,0]]"
   ]
  },
  {
   "cell_type": "markdown",
   "metadata": {},
   "source": [
    "Here we note that there are $n=3$ points, and we extract the $x_i$'s:"
   ]
  },
  {
   "cell_type": "code",
   "execution_count": 9,
   "metadata": {},
   "outputs": [
    {
     "data": {
      "text/html": [
       "<html><script type=\"math/tex; mode=display\">\\newcommand{\\Bold}[1]{\\mathbf{#1}}\\left(3, \\left[1, 2, 3\\right]\\right)</script></html>"
      ],
      "text/plain": [
       "(3, [1, 2, 3])"
      ]
     },
     "execution_count": 9,
     "metadata": {},
     "output_type": "execute_result"
    }
   ],
   "source": [
    "n = len(pts)\n",
    "xs = [pt[0] for pt in pts]\n",
    "(n, xs)"
   ]
  },
  {
   "cell_type": "markdown",
   "metadata": {},
   "source": [
    "<div class=\"alert alert-info\">\n",
    "    <h3>Exercise 2.1</h3>\n",
    "    \n",
    "Extract the $y_i$'s.\n",
    "\n",
    "</div>"
   ]
  },
  {
   "cell_type": "code",
   "execution_count": 10,
   "metadata": {},
   "outputs": [
    {
     "data": {
      "text/html": [
       "<html><script type=\"math/tex; mode=display\">\\newcommand{\\Bold}[1]{\\mathbf{#1}}\\left[1, 2, 0\\right]</script></html>"
      ],
      "text/plain": [
       "[1, 2, 0]"
      ]
     },
     "execution_count": 10,
     "metadata": {},
     "output_type": "execute_result"
    }
   ],
   "source": [
    "ys = [pt[1] for pt in pts]\n",
    "ys"
   ]
  },
  {
   "cell_type": "markdown",
   "metadata": {},
   "source": [
    "Let me _claim_ for now that we can solve the problem using a polynomial of degree $n-1$. So for our example, this would be a quadratic with unknown coefficients $a_i$:"
   ]
  },
  {
   "cell_type": "code",
   "execution_count": 11,
   "metadata": {},
   "outputs": [
    {
     "data": {
      "text/html": [
       "<html><script type=\"math/tex; mode=display\">\\newcommand{\\Bold}[1]{\\mathbf{#1}}a_{2} x^{2} + a_{1} x + a_{0}</script></html>"
      ],
      "text/plain": [
       "a2*x^2 + a1*x + a0"
      ]
     },
     "execution_count": 11,
     "metadata": {},
     "output_type": "execute_result"
    }
   ],
   "source": [
    "var(\"x a0 a1 a2\")\n",
    "P(x) = a0 + a1*x + a2*x^2\n",
    "P(x)"
   ]
  },
  {
   "cell_type": "markdown",
   "metadata": {},
   "source": [
    "The given points allow us to write a system of equations:"
   ]
  },
  {
   "cell_type": "code",
   "execution_count": 12,
   "metadata": {},
   "outputs": [
    {
     "data": {
      "text/html": [
       "<html><script type=\"math/tex; mode=display\">\\newcommand{\\Bold}[1]{\\mathbf{#1}}\\left[a_{0} + a_{1} + a_{2} = 1, a_{0} + 2 \\, a_{1} + 4 \\, a_{2} = 2, a_{0} + 3 \\, a_{1} + 9 \\, a_{2} = 0\\right]</script></html>"
      ],
      "text/plain": [
       "[a0 + a1 + a2 == 1, a0 + 2*a1 + 4*a2 == 2, a0 + 3*a1 + 9*a2 == 0]"
      ]
     },
     "execution_count": 12,
     "metadata": {},
     "output_type": "execute_result"
    }
   ],
   "source": [
    "eq=[]\n",
    "for i in range(3):\n",
    "     eq.append(P(xs[i])==ys[i])\n",
    "eq"
   ]
  },
  {
   "cell_type": "markdown",
   "metadata": {},
   "source": [
    "Sage can solve this for us:"
   ]
  },
  {
   "cell_type": "code",
   "execution_count": 13,
   "metadata": {},
   "outputs": [
    {
     "data": {
      "text/html": [
       "<html><script type=\"math/tex; mode=display\">\\newcommand{\\Bold}[1]{\\mathbf{#1}}\\left[\\left[a_{0} = \\left(-3\\right), a_{1} = \\left(\\frac{11}{2}\\right), a_{2} = \\left(-\\frac{3}{2}\\right)\\right]\\right]</script></html>"
      ],
      "text/plain": [
       "[[a0 == -3, a1 == (11/2), a2 == (-3/2)]]"
      ]
     },
     "execution_count": 13,
     "metadata": {},
     "output_type": "execute_result"
    }
   ],
   "source": [
    "solve(eq,a0,a1,a2)"
   ]
  },
  {
   "cell_type": "markdown",
   "metadata": {},
   "source": [
    "Another way to find the solution is using the coefficient matrix for the system. We can construct that by specifying a function $(i,j)\\to x_i^j$ that defines the $(i,j)$ entry of the matrix, which we do as follows:"
   ]
  },
  {
   "cell_type": "code",
   "execution_count": 14,
   "metadata": {},
   "outputs": [
    {
     "data": {
      "text/html": [
       "<html><script type=\"math/tex; mode=display\">\\newcommand{\\Bold}[1]{\\mathbf{#1}}\\left(\\begin{array}{rrr}\n",
       "1 & 1 & 1 \\\\\n",
       "1 & 2 & 4 \\\\\n",
       "1 & 3 & 9\n",
       "\\end{array}\\right)</script></html>"
      ],
      "text/plain": [
       "[1 1 1]\n",
       "[1 2 4]\n",
       "[1 3 9]"
      ]
     },
     "execution_count": 14,
     "metadata": {},
     "output_type": "execute_result"
    }
   ],
   "source": [
    "V = matrix(QQ, n, n, lambda i, j: xs[i]^j)\n",
    "V"
   ]
  },
  {
   "cell_type": "markdown",
   "metadata": {},
   "source": [
    "In fact, this is a special form of matrix known as a [Vandermonde matrix](http://doc.sagemath.org/html/en/reference/matrices/sage/matrix/special.html#sage.matrix.special.vandermonde), and Sage has a built-in function that makes them easy to create:"
   ]
  },
  {
   "cell_type": "code",
   "execution_count": 15,
   "metadata": {},
   "outputs": [
    {
     "data": {
      "text/html": [
       "<html><script type=\"math/tex; mode=display\">\\newcommand{\\Bold}[1]{\\mathbf{#1}}\\left(\\begin{array}{rrr}\n",
       "1 & 1 & 1 \\\\\n",
       "1 & 2 & 4 \\\\\n",
       "1 & 3 & 9\n",
       "\\end{array}\\right)</script></html>"
      ],
      "text/plain": [
       "[1 1 1]\n",
       "[1 2 4]\n",
       "[1 3 9]"
      ]
     },
     "execution_count": 15,
     "metadata": {},
     "output_type": "execute_result"
    }
   ],
   "source": [
    "V = matrix.vandermonde(xs)\n",
    "V"
   ]
  },
  {
   "cell_type": "markdown",
   "metadata": {},
   "source": [
    "Now we can simply solve the system $V\\mathbf{a} = \\mathbf{y}$:"
   ]
  },
  {
   "cell_type": "code",
   "execution_count": 16,
   "metadata": {},
   "outputs": [
    {
     "data": {
      "text/html": [
       "<html><script type=\"math/tex; mode=display\">\\newcommand{\\Bold}[1]{\\mathbf{#1}}\\left(-3,\\,\\frac{11}{2},\\,-\\frac{3}{2}\\right)</script></html>"
      ],
      "text/plain": [
       "(-3, 11/2, -3/2)"
      ]
     },
     "execution_count": 16,
     "metadata": {},
     "output_type": "execute_result"
    }
   ],
   "source": [
    "a = V.solve_right(vector(ys))\n",
    "a"
   ]
  },
  {
   "cell_type": "markdown",
   "metadata": {},
   "source": [
    "We can now build up the polynomial $P$:"
   ]
  },
  {
   "cell_type": "code",
   "execution_count": 17,
   "metadata": {},
   "outputs": [
    {
     "data": {
      "text/html": [
       "<html><script type=\"math/tex; mode=display\">\\newcommand{\\Bold}[1]{\\mathbf{#1}}-\\frac{3}{2} \\, x^{2} + \\frac{11}{2} \\, x - 3</script></html>"
      ],
      "text/plain": [
       "-3/2*x^2 + 11/2*x - 3"
      ]
     },
     "execution_count": 17,
     "metadata": {},
     "output_type": "execute_result"
    }
   ],
   "source": [
    "P = add([a[i]*x^i for i in [0..2]])\n",
    "P"
   ]
  },
  {
   "cell_type": "markdown",
   "metadata": {},
   "source": [
    "Let's check that $P$ does what it is meant to:"
   ]
  },
  {
   "cell_type": "code",
   "execution_count": 18,
   "metadata": {},
   "outputs": [
    {
     "name": "stdout",
     "output_type": "stream",
     "text": [
      "[1, 2, 0]\n"
     ]
    },
    {
     "data": {
      "text/html": [
       "<html><script type=\"math/tex; mode=display\">\\newcommand{\\Bold}[1]{\\mathbf{#1}}\\mathrm{True}</script></html>"
      ],
      "text/plain": [
       "True"
      ]
     },
     "execution_count": 18,
     "metadata": {},
     "output_type": "execute_result"
    }
   ],
   "source": [
    "print([P(x) for x in xs])\n",
    "[P(x) for x in xs] == ys"
   ]
  },
  {
   "cell_type": "markdown",
   "metadata": {},
   "source": [
    "<div class=\"alert alert-info\">\n",
    "    <h3>Exercise 2.2</h3>\n",
    "    \n",
    "Produce visual confirmation that $P$ is the correct polynomial, by plotting it on the same graph as the points given in `pts`.\n",
    "\n",
    "</div>"
   ]
  },
  {
   "cell_type": "code",
   "execution_count": 19,
   "metadata": {},
   "outputs": [
    {
     "data": {
      "image/png": "[encoded data removed]",
      "text/plain": [
       "Graphics object consisting of 2 graphics primitives"
      ]
     },
     "execution_count": 19,
     "metadata": {},
     "output_type": "execute_result"
    }
   ],
   "source": [
    "plot(P, (x, -1, 4)) + list_plot(pts)"
   ]
  },
  {
   "cell_type": "markdown",
   "metadata": {},
   "source": [
    "<div class=\"alert alert-info\">\n",
    "    <h3>Exercise 2.3</h3>\n",
    "    \n",
    "**(a)** Implement a procedure `interpolate` which takes in a list of points, and returns the interpolating polynomial given by the method above.\n",
    "\n",
    "**(b)** Then write a procedure `show_interpolation` which takes in a list of points, uses `interpolate` to find the interpolating polynomial $P$, then prints out $P(x)$ plus a plot showing $P(x)$ and the given points. Test your function on the list `[[0,7],[1,-5],[3,9],[10,-10]]`.\n",
    "\n",
    "</div>"
   ]
  },
  {
   "cell_type": "code",
   "execution_count": 20,
   "metadata": {},
   "outputs": [],
   "source": [
    "def interpolate(pts):\n",
    "    xs = [pt[0] for pt in pts]\n",
    "    ys = [pt[1] for pt in pts]\n",
    "    V = matrix.vandermonde(xs)\n",
    "    a = V.solve_right(vector(ys))\n",
    "    var(\"x\")\n",
    "    P = add([a[i]*x^i for i in [0..(len(pts)-1)]])\n",
    "    return (P)\n",
    "    "
   ]
  },
  {
   "cell_type": "code",
   "execution_count": 21,
   "metadata": {},
   "outputs": [],
   "source": [
    "def show_interpolation(pts):\n",
    "    P = interpolate(pts)\n",
    "    return plot(P, (x, pts[0][0]-1, pts[-1][0]+1)) + list_plot(pts)"
   ]
  },
  {
   "cell_type": "code",
   "execution_count": 22,
   "metadata": {},
   "outputs": [
    {
     "data": {
      "image/png": "[encoded data removed]",
      "text/plain": [
       "Graphics object consisting of 2 graphics primitives"
      ]
     },
     "execution_count": 22,
     "metadata": {},
     "output_type": "execute_result"
    }
   ],
   "source": [
    "pts = [[0,7],[1,-5],[3,9],[10,-10]]\n",
    "show_interpolation(pts)"
   ]
  },
  {
   "cell_type": "markdown",
   "metadata": {},
   "source": [
    "## 3. Computing determinants\n",
    "\n",
    "Recall that the determinant of an $n\\times n$ matrix $A$ with entries $a_{ij}$ is given by $$\\det A = \\sum_{j=1}^n (-1)^{1+j}a_{1j}\\det A_{1j}$$ where $A_{1j}$ is the matrix obtained by deleting row 1 and column $j$ of $A$. This approach to evaluating the determinant is known as \"cofactor expansion along the first row\".\n",
    "\n",
    "Sage has a built-in determinant function, but we will implement our own for comparison.\n",
    "\n",
    "As a first step, we need to look at how to extract the sub-matrix $A_{1j}$. We'll look at how to select parts of a matrix using this example:"
   ]
  },
  {
   "cell_type": "code",
   "execution_count": 23,
   "metadata": {},
   "outputs": [
    {
     "data": {
      "text/html": [
       "<html><script type=\"math/tex; mode=display\">\\newcommand{\\Bold}[1]{\\mathbf{#1}}\\left(\\begin{array}{rrrrr}\n",
       "0 & 0 & 0 & 1 & -1 \\\\\n",
       "0 & 3 & 0 & 7 & 1 \\\\\n",
       "0 & 0 & 0 & 2 & -1 \\\\\n",
       "0 & 1 & 1 & -1 & 1 \\\\\n",
       "-1 & -2 & 0 & 0 & 1\n",
       "\\end{array}\\right)</script></html>"
      ],
      "text/plain": [
       "[ 0  0  0  1 -1]\n",
       "[ 0  3  0  7  1]\n",
       "[ 0  0  0  2 -1]\n",
       "[ 0  1  1 -1  1]\n",
       "[-1 -2  0  0  1]"
      ]
     },
     "execution_count": 23,
     "metadata": {},
     "output_type": "execute_result"
    }
   ],
   "source": [
    "A = random_matrix(ZZ,5,5)\n",
    "A"
   ]
  },
  {
   "cell_type": "markdown",
   "metadata": {},
   "source": [
    "The easiest way is just to give a list of the rows and columns that you want -- remembering that they are numbered starting from 0. So here we take rows 0 to 4 (i.e. all the rows) and columns 0, 3 and 4:"
   ]
  },
  {
   "cell_type": "code",
   "execution_count": 24,
   "metadata": {},
   "outputs": [
    {
     "data": {
      "text/html": [
       "<html><script type=\"math/tex; mode=display\">\\newcommand{\\Bold}[1]{\\mathbf{#1}}\\left(\\begin{array}{rrr}\n",
       "0 & 1 & -1 \\\\\n",
       "0 & 7 & 1 \\\\\n",
       "0 & 2 & -1 \\\\\n",
       "0 & -1 & 1 \\\\\n",
       "-1 & 0 & 1\n",
       "\\end{array}\\right)</script></html>"
      ],
      "text/plain": [
       "[ 0  1 -1]\n",
       "[ 0  7  1]\n",
       "[ 0  2 -1]\n",
       "[ 0 -1  1]\n",
       "[-1  0  1]"
      ]
     },
     "execution_count": 24,
     "metadata": {},
     "output_type": "execute_result"
    }
   ],
   "source": [
    "A[[0..4],[0,3,4]]"
   ]
  },
  {
   "cell_type": "markdown",
   "metadata": {},
   "source": [
    "If we just want to get rid of the 0th row and take rows 1 onward, there is a short way to say that:"
   ]
  },
  {
   "cell_type": "code",
   "execution_count": 25,
   "metadata": {},
   "outputs": [
    {
     "data": {
      "text/html": [
       "<html><script type=\"math/tex; mode=display\">\\newcommand{\\Bold}[1]{\\mathbf{#1}}\\left(\\begin{array}{rrr}\n",
       "0 & 7 & 1 \\\\\n",
       "0 & 2 & -1 \\\\\n",
       "0 & -1 & 1 \\\\\n",
       "-1 & 0 & 1\n",
       "\\end{array}\\right)</script></html>"
      ],
      "text/plain": [
       "[ 0  7  1]\n",
       "[ 0  2 -1]\n",
       "[ 0 -1  1]\n",
       "[-1  0  1]"
      ]
     },
     "execution_count": 25,
     "metadata": {},
     "output_type": "execute_result"
    }
   ],
   "source": [
    "A[1:,[0,3,4]]"
   ]
  },
  {
   "cell_type": "markdown",
   "metadata": {},
   "source": [
    "So, to find $A_{1j}$ we need to get rid of the 0th row and give a list of all the columns exluding $j$. For instance, to get rid of the column numbered 3:"
   ]
  },
  {
   "cell_type": "code",
   "execution_count": 26,
   "metadata": {},
   "outputs": [
    {
     "data": {
      "text/html": [
       "<html><script type=\"math/tex; mode=display\">\\newcommand{\\Bold}[1]{\\mathbf{#1}}\\left(\\begin{array}{rrrr}\n",
       "0 & 3 & 0 & 1 \\\\\n",
       "0 & 0 & 0 & -1 \\\\\n",
       "0 & 1 & 1 & 1 \\\\\n",
       "-1 & -2 & 0 & 1\n",
       "\\end{array}\\right)</script></html>"
      ],
      "text/plain": [
       "[ 0  3  0  1]\n",
       "[ 0  0  0 -1]\n",
       "[ 0  1  1  1]\n",
       "[-1 -2  0  1]"
      ]
     },
     "execution_count": 26,
     "metadata": {},
     "output_type": "execute_result"
    }
   ],
   "source": [
    "A[1:,[i for i in [0..4] if i != 3]]"
   ]
  },
  {
   "cell_type": "markdown",
   "metadata": {},
   "source": [
    "Here we use this technique to write the `ourdet` function.\n",
    "\n",
    "It is _recursive_, meaning that the function makes use of itself to get the answer (finding a $4\\times4$ determinant requires working out three $3\\times3$ determinants, which themselves require $2\\times2$ determinants, ...). The \"base case\" is when we have a $1\\times1$ matrix, for which the determinant is just the single entry in the matrix."
   ]
  },
  {
   "cell_type": "code",
   "execution_count": 27,
   "metadata": {},
   "outputs": [],
   "source": [
    "def ourdet(A):\n",
    "    m, n = A.nrows(), A.ncols()\n",
    "    if m<>n:\n",
    "        return(\"Error: matrix must be square\")\n",
    "    elif n == 1:\n",
    "        return(A[0,0])\n",
    "    else:\n",
    "        det = 0\n",
    "        for j in range(n):\n",
    "            det = det + (-1)^j * A[0, j] * ourdet(A[1:,[i for i in [0..n-1] if i != j]])\n",
    "        return(det)"
   ]
  },
  {
   "cell_type": "markdown",
   "metadata": {},
   "source": [
    "Let's check the result against Sage's determinant function, for our example matrix:"
   ]
  },
  {
   "cell_type": "code",
   "execution_count": 28,
   "metadata": {},
   "outputs": [
    {
     "data": {
      "text/html": [
       "<html><script type=\"math/tex; mode=display\">\\newcommand{\\Bold}[1]{\\mathbf{#1}}3</script></html>"
      ],
      "text/plain": [
       "3"
      ]
     },
     "execution_count": 28,
     "metadata": {},
     "output_type": "execute_result"
    }
   ],
   "source": [
    "ourdet(A)"
   ]
  },
  {
   "cell_type": "code",
   "execution_count": 29,
   "metadata": {},
   "outputs": [
    {
     "data": {
      "text/html": [
       "<html><script type=\"math/tex; mode=display\">\\newcommand{\\Bold}[1]{\\mathbf{#1}}3</script></html>"
      ],
      "text/plain": [
       "3"
      ]
     },
     "execution_count": 29,
     "metadata": {},
     "output_type": "execute_result"
    }
   ],
   "source": [
    "A.det()"
   ]
  },
  {
   "cell_type": "markdown",
   "metadata": {},
   "source": [
    "Sage's function is much more efficient, though!"
   ]
  },
  {
   "cell_type": "code",
   "execution_count": 30,
   "metadata": {},
   "outputs": [
    {
     "name": "stdout",
     "output_type": "stream",
     "text": [
      "100 loops, best of 3: 13.4 ms per loop\n"
     ]
    }
   ],
   "source": [
    "%timeit ourdet(A)"
   ]
  },
  {
   "cell_type": "code",
   "execution_count": 31,
   "metadata": {},
   "outputs": [
    {
     "name": "stdout",
     "output_type": "stream",
     "text": [
      "The slowest run took 33.50 times longer than the fastest. This could mean that an intermediate result is being cached.\n",
      "10000000 loops, best of 3: 149 ns per loop\n"
     ]
    }
   ],
   "source": [
    "%timeit A.det()"
   ]
  },
  {
   "cell_type": "markdown",
   "metadata": {},
   "source": [
    "The `ourdet` function already starts to struggle with $8\\times8$ matrices. The following code produces a random $8\\times8$ matrix then times the running of `ourdet` on it: _(this will probably take about 5 seconds to run...)_"
   ]
  },
  {
   "cell_type": "code",
   "execution_count": 32,
   "metadata": {},
   "outputs": [
    {
     "data": {
      "text/html": [
       "<html><script type=\"math/tex; mode=display\">\\newcommand{\\Bold}[1]{\\mathbf{#1}}4.758945941925049</script></html>"
      ],
      "text/plain": [
       "4.758945941925049"
      ]
     },
     "execution_count": 32,
     "metadata": {},
     "output_type": "execute_result"
    }
   ],
   "source": [
    "A8 = random_matrix(ZZ, 8, 8)\n",
    "st = time.time() \n",
    "ourdet(A8)\n",
    "time.time() - st"
   ]
  },
  {
   "cell_type": "markdown",
   "metadata": {},
   "source": [
    "This is already quite slow, and for a $9\\times9$ matrix note that `ourdet` will need to compute 9 separate $8\\times8$ determinants, so we'd expect a $9\\times9$ example to take about 9 times as long! Following this reasoning, the running time of `ourdet` for $n\\times n$ matrices behaves like a multiple of $n!$, which grows very quickly.\n",
    "\n",
    "In contrast, Sage's determinant function is very quick - let's try a $200\\times200$ matrix:"
   ]
  },
  {
   "cell_type": "code",
   "execution_count": 33,
   "metadata": {},
   "outputs": [
    {
     "data": {
      "text/html": [
       "<html><script type=\"math/tex; mode=display\">\\newcommand{\\Bold}[1]{\\mathbf{#1}}0.05797910690307617</script></html>"
      ],
      "text/plain": [
       "0.05797910690307617"
      ]
     },
     "execution_count": 33,
     "metadata": {},
     "output_type": "execute_result"
    }
   ],
   "source": [
    "A200 = random_matrix(ZZ, 200, 200)\n",
    "st = time.time() \n",
    "A200.det()\n",
    "time.time() - st"
   ]
  },
  {
   "cell_type": "markdown",
   "metadata": {},
   "source": [
    "<div class=\"alert alert-info\">\n",
    "    <h3>Exercise 3.1</h3>\n",
    "\n",
    "Perhaps we can we be more efficient by looking for 0s? That is, can we exploit the fact that if $a_{1j}$ then there is no point in working out $\\det A_{1j}$?\n",
    "\n",
    "**(a)** Write a modified version of the `ourdet` procedure (call it `ourdet2`) that uses this idea.\n",
    "\n",
    "**(b)** Check that `ourdet2` gives the correct answer for the determinant of `A8`.\n",
    "\n",
    "**(c)** Use `%timeit` to check the running time of `ourdet2(A8)`.\n",
    "\n",
    "</div>"
   ]
  },
  {
   "cell_type": "code",
   "execution_count": 34,
   "metadata": {},
   "outputs": [],
   "source": [
    "def ourdet2(A):\n",
    "    m, n = A.nrows(), A.ncols()\n",
    "    if m<>n:\n",
    "        return(\"Error: matrix must be square\")\n",
    "    elif n == 1:\n",
    "        return(A[0,0])\n",
    "    else:\n",
    "        det = 0\n",
    "        for j in range(n):\n",
    "            if A[0,j] == 0:\n",
    "                det = det + 0\n",
    "            else:\n",
    "                det = det + (-1)^j * A[0, j] * ourdet2(A[1:,[i for i in [0..n-1] if i != j]])\n",
    "        return(det)"
   ]
  },
  {
   "cell_type": "code",
   "execution_count": 35,
   "metadata": {},
   "outputs": [
    {
     "data": {
      "text/html": [
       "<html><script type=\"math/tex; mode=display\">\\newcommand{\\Bold}[1]{\\mathbf{#1}}22300824</script></html>"
      ],
      "text/plain": [
       "22300824"
      ]
     },
     "execution_count": 35,
     "metadata": {},
     "output_type": "execute_result"
    }
   ],
   "source": [
    "ourdet2(A8)"
   ]
  },
  {
   "cell_type": "code",
   "execution_count": 36,
   "metadata": {},
   "outputs": [
    {
     "data": {
      "text/html": [
       "<html><script type=\"math/tex; mode=display\">\\newcommand{\\Bold}[1]{\\mathbf{#1}}22300824</script></html>"
      ],
      "text/plain": [
       "22300824"
      ]
     },
     "execution_count": 36,
     "metadata": {},
     "output_type": "execute_result"
    }
   ],
   "source": [
    "ourdet(A8)"
   ]
  },
  {
   "cell_type": "code",
   "execution_count": 37,
   "metadata": {},
   "outputs": [
    {
     "name": "stdout",
     "output_type": "stream",
     "text": [
      "1 loop, best of 3: 860 ms per loop\n"
     ]
    }
   ],
   "source": [
    "%timeit ourdet2(A8)"
   ]
  },
  {
   "cell_type": "code",
   "execution_count": 38,
   "metadata": {},
   "outputs": [
    {
     "name": "stdout",
     "output_type": "stream",
     "text": [
      "1 loop, best of 3: 4.72 s per loop\n"
     ]
    }
   ],
   "source": [
    "%timeit ourdet(A8)"
   ]
  },
  {
   "cell_type": "markdown",
   "metadata": {},
   "source": [
    "<div class=\"alert alert-info\">\n",
    "    <h3>Exercise 3.2</h3>\n",
    "\n",
    "**(a)** Produce a plot comparing the running times of `ourdet`, `ourdet2` and Sage's `det` for $n\\times n$ matrices where $1\\leq n \\leq 8$.\n",
    "\n",
    "**(b)** Produce another plot which checks the running time of `det` for $1\\leq n \\leq 300$.\n",
    "\n",
    "</div>"
   ]
  },
  {
   "cell_type": "code",
   "execution_count": 39,
   "metadata": {},
   "outputs": [],
   "source": [
    "def time(fun,mat):\n",
    "    import time\n",
    "    start_time = time.time() \n",
    "    fun(mat)\n",
    "    return time.time() - start_time\n",
    "    "
   ]
  },
  {
   "cell_type": "code",
   "execution_count": 40,
   "metadata": {},
   "outputs": [],
   "source": [
    "def timeinb(mat):\n",
    "    import time\n",
    "    start_time = time.time() \n",
    "    mat.det()\n",
    "    return time.time() - start_time"
   ]
  },
  {
   "cell_type": "code",
   "execution_count": 47,
   "metadata": {},
   "outputs": [],
   "source": [
    "ns = range(1,9)\n",
    "matrices = [random_matrix(ZZ, n, n) for n in ns]\n",
    "ourdettimes = [time(ourdet,m) for m in matrices]\n",
    "ourdet2times = [time(ourdet2,m) for m in matrices]\n",
    "dettimes = [ timeinb(m) for m in matrices]\n"
   ]
  },
  {
   "cell_type": "code",
   "execution_count": 45,
   "metadata": {},
   "outputs": [
    {
     "data": {
      "text/html": [
       "<html><script type=\"math/tex; mode=display\">\\newcommand{\\Bold}[1]{\\mathbf{#1}}\\mathrm{True}</script></html>"
      ],
      "text/plain": [
       "True"
      ]
     },
     "execution_count": 45,
     "metadata": {},
     "output_type": "execute_result"
    }
   ],
   "source": [
    "ourdetOP = [ourdet(m) for m in matrices]\n",
    "ourdet2OP = [ourdet2(m) for m in matrices]\n",
    "ourdetOP == ourdet2OP"
   ]
  },
  {
   "cell_type": "code",
   "execution_count": 48,
   "metadata": {},
   "outputs": [
    {
     "data": {
      "image/png": "[encoded data removed]",
      "text/plain": [
       "<Figure size 432x288 with 1 Axes>"
      ]
     },
     "metadata": {},
     "output_type": "display_data"
    }
   ],
   "source": [
    "import matplotlib.pyplot as plt\n",
    "\n",
    "ax = plt.subplot(111)\n",
    "\n",
    "\n",
    "plt.scatter(ns,ourdettimes,label=\"ourdet\")\n",
    "plt.scatter(ns,ourdet2times,label=\"ourdet2\")\n",
    "plt.scatter(ns,dettimes,label=\"det\")\n",
    "\n",
    "plt.legend()\n",
    "\n",
    "plt.title('Running time against matrix size')\n",
    "plt.ylabel(\"Time taken (sec)\")\n",
    "plt.xlabel('Size of matrix (int)')\n",
    "\n",
    "plt.show()"
   ]
  },
  {
   "cell_type": "markdown",
   "metadata": {},
   "source": [
    "<div class=\"alert alert-info\">\n",
    "    <h3>Exercise 3.3</h3>\n",
    "\n",
    "You probably found that `ourdet` and `ourdet2` have similar running times. However, this could be because our matrices only very rarely have 0s in them.\n",
    "\n",
    "Produce a plot comparing the running time of `ourdet` and `ourdet2` when computing $6\\times6$ determinants -- this should show the running time against the `density` of the random matrix, e.g.:\n",
    "\n",
    "    A = random_matrix(ZZ, 6, 6, density = 0.75)\n",
    "\n",
    "will have 75% of its entries nonzero. Try using densities 0.05, 0.1, 0.15, ..., 0.95, 1.\n",
    "\n",
    "</div>"
   ]
  },
  {
   "cell_type": "code",
   "execution_count": 43,
   "metadata": {},
   "outputs": [],
   "source": [
    "densities = [ x*0.05 for x in range(1,21)]\n",
    "matrices = [random_matrix(ZZ, 6, 6, density = x) for x in densities]\n",
    "\n",
    "ourdettimes = [time(ourdet,m) for m in matrices]\n",
    "ourdet2times = [time(ourdet2,m) for m in matrices]"
   ]
  },
  {
   "cell_type": "code",
   "execution_count": 44,
   "metadata": {},
   "outputs": [
    {
     "data": {
      "image/png": "[encoded data removed]",
      "text/plain": [
       "<Figure size 432x288 with 1 Axes>"
      ]
     },
     "metadata": {},
     "output_type": "display_data"
    }
   ],
   "source": [
    "import matplotlib.pyplot as plt\n",
    "\n",
    "ax = plt.subplot(111)\n",
    "\n",
    "\n",
    "ax.scatter(densities,ourdettimes,label=\"ourdet\")\n",
    "ax.scatter(densities,ourdet2times,label=\"ourdet2\")\n",
    "\n",
    "ax.legend()\n",
    "\n",
    "plt.title('Comparing outdet and ourdet2 with 6x6 matricies and different densities')\n",
    "plt.ylabel(\"Time taken (sec)\")\n",
    "plt.xlabel('Density')\n",
    "\n",
    "plt.show()"
   ]
  },
  {
   "cell_type": "code",
   "execution_count": null,
   "metadata": {},
   "outputs": [],
   "source": []
  }
 ],
 "metadata": {
  "kernelspec": {
   "display_name": "SageMath 8.8",
   "language": "sage",
   "name": "sagemath"
  },
  "language_info": {
   "codemirror_mode": {
    "name": "ipython",
    "version": 2
   },
   "file_extension": ".py",
   "mimetype": "text/x-python",
   "name": "python",
   "nbconvert_exporter": "python",
   "pygments_lexer": "ipython2",
   "version": "2.7.15"
  }
 },
 "nbformat": 4,
 "nbformat_minor": 2
}
