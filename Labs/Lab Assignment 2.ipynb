{
 "cells": [
  {
   "cell_type": "markdown",
   "metadata": {},
   "source": [
    "# Lab Assignment 2\n",
    "\n",
    "## Lorenzo Stigliano, s1725018\n",
    "\n"
   ]
  },
  {
   "cell_type": "markdown",
   "metadata": {},
   "source": [
    "## Task 1\n",
    "\n",
    "**(a)** First, we define the `my_euler_phi` function, which computes Euler's $\\phi(n)$:"
   ]
  },
  {
   "cell_type": "code",
   "execution_count": 1,
   "metadata": {},
   "outputs": [],
   "source": [
    "def my_euler_phi(n):\n",
    "    count = 0\n",
    "    for k in range(1,n+1):\n",
    "        gcd = 0\n",
    "        for j in range(1,k+1):\n",
    "            if((k % j == 0) and (n % j == 0)): \n",
    "                gcd = j\n",
    "        if gcd == 1:\n",
    "            count+=1\n",
    "    return count "
   ]
  },
  {
   "cell_type": "markdown",
   "metadata": {},
   "source": [
    "The function my_euler_phi(n) takes in n and checks for all valus of k in the range to see if the gcd is 1 for both k and n. If thats the case then it adds 1 to the total count and then return the count."
   ]
  },
  {
   "cell_type": "markdown",
   "metadata": {},
   "source": [
    "**(b)** Below I have made 2 list that use my_euler_phi and euler_phi, we can see that they have the same values since when we equate both lists it returns true this means that all the elements in the lists are the same. Furthermore I have used the len() python function to show that both lists are of length 100 which means they both have 100 elements in them."
   ]
  },
  {
   "cell_type": "markdown",
   "metadata": {},
   "source": [
    "The values using my function: "
   ]
  },
  {
   "cell_type": "code",
   "execution_count": 2,
   "metadata": {},
   "outputs": [],
   "source": [
    "my_list_values = [my_euler_phi(n) for n in [1..100]]"
   ]
  },
  {
   "cell_type": "code",
   "execution_count": 3,
   "metadata": {},
   "outputs": [
    {
     "data": {
      "text/plain": [
       "100"
      ]
     },
     "execution_count": 3,
     "metadata": {},
     "output_type": "execute_result"
    }
   ],
   "source": [
    "len(my_list_values)"
   ]
  },
  {
   "cell_type": "code",
   "execution_count": 4,
   "metadata": {},
   "outputs": [
    {
     "name": "stdout",
     "output_type": "stream",
     "text": [
      "[1, 1, 2, 2, 4, 2, 6, 4, 6, 4, 10, 4, 12, 6, 8, 8, 16, 6, 18, 8, 12, 10, 22, 8, 20, 12, 18, 12, 28, 8, 30, 16, 20, 16, 24, 12, 36, 18, 24, 16, 40, 12, 42, 20, 24, 22, 46, 16, 42, 20, 32, 24, 52, 18, 40, 24, 36, 28, 58, 16, 60, 30, 36, 32, 48, 20, 66, 32, 44, 24, 70, 24, 72, 36, 40, 36, 60, 24, 78, 32, 54, 40, 82, 24, 64, 42, 56, 40, 88, 24, 72, 44, 60, 46, 72, 32, 96, 42, 60, 40]\n"
     ]
    }
   ],
   "source": [
    "print(my_list_values)"
   ]
  },
  {
   "cell_type": "markdown",
   "metadata": {},
   "source": [
    "The values using my in built function: "
   ]
  },
  {
   "cell_type": "code",
   "execution_count": 5,
   "metadata": {},
   "outputs": [],
   "source": [
    "sage_phi_values = [euler_phi(n) for n in [1..100]]"
   ]
  },
  {
   "cell_type": "code",
   "execution_count": 6,
   "metadata": {},
   "outputs": [
    {
     "data": {
      "text/plain": [
       "100"
      ]
     },
     "execution_count": 6,
     "metadata": {},
     "output_type": "execute_result"
    }
   ],
   "source": [
    "len(sage_phi_values)"
   ]
  },
  {
   "cell_type": "code",
   "execution_count": 7,
   "metadata": {},
   "outputs": [
    {
     "name": "stdout",
     "output_type": "stream",
     "text": [
      "[1, 1, 2, 2, 4, 2, 6, 4, 6, 4, 10, 4, 12, 6, 8, 8, 16, 6, 18, 8, 12, 10, 22, 8, 20, 12, 18, 12, 28, 8, 30, 16, 20, 16, 24, 12, 36, 18, 24, 16, 40, 12, 42, 20, 24, 22, 46, 16, 42, 20, 32, 24, 52, 18, 40, 24, 36, 28, 58, 16, 60, 30, 36, 32, 48, 20, 66, 32, 44, 24, 70, 24, 72, 36, 40, 36, 60, 24, 78, 32, 54, 40, 82, 24, 64, 42, 56, 40, 88, 24, 72, 44, 60, 46, 72, 32, 96, 42, 60, 40]\n"
     ]
    }
   ],
   "source": [
    "print(sage_phi_values)"
   ]
  },
  {
   "cell_type": "markdown",
   "metadata": {},
   "source": [
    "Comparing both of the lists:"
   ]
  },
  {
   "cell_type": "code",
   "execution_count": 8,
   "metadata": {},
   "outputs": [
    {
     "data": {
      "text/plain": [
       "True"
      ]
     },
     "execution_count": 8,
     "metadata": {},
     "output_type": "execute_result"
    }
   ],
   "source": [
    "sage_phi_values == my_list_values"
   ]
  },
  {
   "cell_type": "markdown",
   "metadata": {},
   "source": [
    "**(c)** The most efficeint approach was using the sage in-built. Which was considerably quicker than my function. 267 micro seconds vs 47.3 ms per loop for the function I built."
   ]
  },
  {
   "cell_type": "code",
   "execution_count": 9,
   "metadata": {},
   "outputs": [
    {
     "name": "stdout",
     "output_type": "stream",
     "text": [
      "1000 loops, best of 3: 200 µs per loop\n"
     ]
    }
   ],
   "source": [
    "%timeit sage_phi_values = [euler_phi(n) for n in [1..100]]"
   ]
  },
  {
   "cell_type": "code",
   "execution_count": 10,
   "metadata": {},
   "outputs": [
    {
     "name": "stdout",
     "output_type": "stream",
     "text": [
      "10 loops, best of 3: 39.7 ms per loop\n"
     ]
    }
   ],
   "source": [
    "%timeit my_list_values = [my_euler_phi(n) for n in [1..100]]"
   ]
  },
  {
   "cell_type": "markdown",
   "metadata": {},
   "source": [
    "Creating the data variable to capture a list of [n, euler_phi(n)] for each value of n from 1 to 100"
   ]
  },
  {
   "cell_type": "code",
   "execution_count": 11,
   "metadata": {},
   "outputs": [],
   "source": [
    "data = [[n, euler_phi(n)] for n in [1..100]]"
   ]
  },
  {
   "cell_type": "code",
   "execution_count": 12,
   "metadata": {},
   "outputs": [
    {
     "data": {
      "image/png": "[encoded data removed]",
      "text/plain": [
       "Graphics object consisting of 1 graphics primitive"
      ]
     },
     "metadata": {},
     "output_type": "display_data"
    }
   ],
   "source": [
    "my_plot = list_plot(data)\n",
    "my_plot.show(title='Graph of n against euler_phi(n)')"
   ]
  },
  {
   "cell_type": "markdown",
   "metadata": {},
   "source": [
    "## Task 2"
   ]
  },
  {
   "cell_type": "markdown",
   "metadata": {},
   "source": [
    "**(a)** First, we define the `find_order_of` function, finds the order of g given a base of prime p."
   ]
  },
  {
   "cell_type": "code",
   "execution_count": 13,
   "metadata": {},
   "outputs": [],
   "source": [
    "def find_order_of(g,p):\n",
    "    gpwr = mod(1, p)\n",
    "    for i in range(1,p):\n",
    "        gpwr = gpwr*g\n",
    "        if(gpwr == 1):\n",
    "            return i"
   ]
  },
  {
   "cell_type": "markdown",
   "metadata": {},
   "source": [
    "**(b)** We define the `list_generators` function, takes in a prime p and returns a list of all elements which generate the group.\n",
    "Checks if the order of the elements in the range are euqal to p-1 since if that is the case then they generate the whole group and thus are generators."
   ]
  },
  {
   "cell_type": "code",
   "execution_count": 14,
   "metadata": {},
   "outputs": [],
   "source": [
    "def list_generators(p):\n",
    "    list=[]\n",
    "    for i in range(1,p):\n",
    "        if find_order_of(i,p) == p-1:\n",
    "            list.append(i)\n",
    "    return list"
   ]
  },
  {
   "cell_type": "code",
   "execution_count": 15,
   "metadata": {},
   "outputs": [
    {
     "data": {
      "text/plain": [
       "[3, 5, 6, 7, 10, 11, 12, 14]"
      ]
     },
     "execution_count": 15,
     "metadata": {},
     "output_type": "execute_result"
    }
   ],
   "source": [
    "list_generators(17)"
   ]
  },
  {
   "cell_type": "markdown",
   "metadata": {},
   "source": [
    "**(c)** First I get all the primes between 1 and 100 and save them as a list in primes variable. Then I make a list comprehension primes_euler which gets every prime and calulates the value `of euler_phi` for each prime."
   ]
  },
  {
   "cell_type": "code",
   "execution_count": 16,
   "metadata": {},
   "outputs": [],
   "source": [
    "primes = list(set([next_prime(x) for x in [1..100]][0:90]))"
   ]
  },
  {
   "cell_type": "code",
   "execution_count": 17,
   "metadata": {},
   "outputs": [
    {
     "name": "stdout",
     "output_type": "stream",
     "text": [
      "[2, 3, 5, 7, 11, 13, 17, 19, 23, 29, 31, 37, 41, 43, 47, 53, 59, 61, 67, 71, 73, 79, 83, 89, 97]\n"
     ]
    }
   ],
   "source": [
    "print(primes)"
   ]
  },
  {
   "cell_type": "code",
   "execution_count": 18,
   "metadata": {},
   "outputs": [],
   "source": [
    "primes_euler = [[i,euler_phi(i)] for i in primes]"
   ]
  },
  {
   "cell_type": "code",
   "execution_count": 19,
   "metadata": {},
   "outputs": [
    {
     "name": "stdout",
     "output_type": "stream",
     "text": [
      "[[2, 1], [3, 2], [5, 4], [7, 6], [11, 10], [13, 12], [17, 16], [19, 18], [23, 22], [29, 28], [31, 30], [37, 36], [41, 40], [43, 42], [47, 46], [53, 52], [59, 58], [61, 60], [67, 66], [71, 70], [73, 72], [79, 78], [83, 82], [89, 88], [97, 96]]\n"
     ]
    }
   ],
   "source": [
    "print(primes_euler)"
   ]
  },
  {
   "cell_type": "markdown",
   "metadata": {},
   "source": [
    "Finally I show the claim by showing that the number of generators is equal to p-1 hence for each prime I take one away and compare it to the number of genertaotrs for that prime, the all() function ensures that all the conditions in the list are True. Since it returns True this means that all the elements in the list are true and hence the claim is true for all primes between 1 and 100."
   ]
  },
  {
   "cell_type": "code",
   "execution_count": 20,
   "metadata": {},
   "outputs": [
    {
     "data": {
      "text/plain": [
       "True"
      ]
     },
     "execution_count": 20,
     "metadata": {},
     "output_type": "execute_result"
    }
   ],
   "source": [
    "all([x[0]-1 == x[1] for x in primes_euler])"
   ]
  }
 ],
 "metadata": {
  "kernelspec": {
   "display_name": "SageMath 8.8",
   "language": "sage",
   "name": "sagemath"
  },
  "language_info": {
   "codemirror_mode": {
    "name": "ipython",
    "version": 2
   },
   "file_extension": ".py",
   "mimetype": "text/x-python",
   "name": "python",
   "nbconvert_exporter": "python",
   "pygments_lexer": "ipython2",
   "version": "2.7.15"
  }
 },
 "nbformat": 4,
 "nbformat_minor": 2
}
