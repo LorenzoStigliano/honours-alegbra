{
 "cells": [
  {
   "cell_type": "code",
   "execution_count": 8,
   "metadata": {},
   "outputs": [],
   "source": [
    "%display latex"
   ]
  },
  {
   "cell_type": "markdown",
   "metadata": {},
   "source": [
    "**Question 1**"
   ]
  },
  {
   "cell_type": "code",
   "execution_count": null,
   "metadata": {},
   "outputs": [],
   "source": [
    "M1 = Matrix(3,3, [5,19/6,-(1/3), 0,3,0, 0,-(1/2),4])"
   ]
  },
  {
   "cell_type": "code",
   "execution_count": 10,
   "metadata": {},
   "outputs": [
    {
     "data": {
      "text/html": [
       "<html><script type=\"math/tex; mode=display\">\\newcommand{\\Bold}[1]{\\mathbf{#1}}\\left(\\begin{array}{rrr}\n",
       "5 & \\frac{19}{6} & -\\frac{1}{3} \\\\\n",
       "0 & 3 & 0 \\\\\n",
       "0 & -\\frac{1}{2} & 4\n",
       "\\end{array}\\right)</script></html>"
      ],
      "text/plain": [
       "[   5 19/6 -1/3]\n",
       "[   0    3    0]\n",
       "[   0 -1/2    4]"
      ]
     },
     "metadata": {},
     "output_type": "display_data"
    }
   ],
   "source": [
    "pretty_print(M1)"
   ]
  },
  {
   "cell_type": "code",
   "execution_count": 11,
   "metadata": {},
   "outputs": [
    {
     "data": {
      "text/html": [
       "<html><script type=\"math/tex; mode=display\">\\newcommand{\\Bold}[1]{\\mathbf{#1}}\\left[\\left(5, \\left[\\left(1,\\,0,\\,0\\right)\\right], 1\\right), \\left(4, \\left[\\left(1,\\,0,\\,3\\right)\\right], 1\\right), \\left(3, \\left[\\left(1,\\,-\\frac{2}{3},\\,-\\frac{1}{3}\\right)\\right], 1\\right)\\right]</script></html>"
      ],
      "text/plain": [
       "[(5, [\n",
       "  (1, 0, 0)\n",
       "  ], 1), (4, [\n",
       "  (1, 0, 3)\n",
       "  ], 1), (3, [\n",
       "  (1, -2/3, -1/3)\n",
       "  ], 1)]"
      ]
     },
     "execution_count": 11,
     "metadata": {},
     "output_type": "execute_result"
    }
   ],
   "source": [
    "M1.eigenvectors_right()"
   ]
  },
  {
   "cell_type": "markdown",
   "metadata": {},
   "source": [
    "**Question 2**"
   ]
  },
  {
   "cell_type": "code",
   "execution_count": 12,
   "metadata": {},
   "outputs": [
    {
     "data": {
      "text/html": [
       "<html><script type=\"math/tex; mode=display\">\\newcommand{\\Bold}[1]{\\mathbf{#1}}\\left[\\left(3, \\left[\\left(0,\\,0,\\,1\\right)\\right], 1\\right), \\left(2, \\left[\\left(1,\\,0,\\,-1\\right), \\left(0,\\,1,\\,1\\right)\\right], 2\\right)\\right]</script></html>"
      ],
      "text/plain": [
       "[(3, [\n",
       "  (0, 0, 1)\n",
       "  ], 1), (2, [\n",
       "  (1, 0, -1),\n",
       "  (0, 1, 1)\n",
       "  ], 2)]"
      ]
     },
     "execution_count": 12,
     "metadata": {},
     "output_type": "execute_result"
    }
   ],
   "source": [
    "M11 = Matrix(ZZ, 3, 3, [2,0,0, 0,2,0, 1,-1,3])\n",
    "M11.eigenvectors_right()"
   ]
  },
  {
   "cell_type": "code",
   "execution_count": 13,
   "metadata": {},
   "outputs": [
    {
     "data": {
      "text/html": [
       "<html><script type=\"math/tex; mode=display\">\\newcommand{\\Bold}[1]{\\mathbf{#1}}\\left[\\left(3, \\left[\\left(0,\\,0,\\,1\\right)\\right], 1\\right), \\left(2, \\left[\\left(1,\\,2,\\,1\\right)\\right], 2\\right)\\right]</script></html>"
      ],
      "text/plain": [
       "[(3, [\n",
       "  (0, 0, 1)\n",
       "  ], 1), (2, [\n",
       "  (1, 2, 1)\n",
       "  ], 2)]"
      ]
     },
     "execution_count": 13,
     "metadata": {},
     "output_type": "execute_result"
    }
   ],
   "source": [
    "M11 = Matrix(ZZ, 3, 3, [0,1,0, -4,4,0, -1,0,3])\n",
    "M11.eigenvectors_right()"
   ]
  },
  {
   "cell_type": "code",
   "execution_count": 14,
   "metadata": {},
   "outputs": [
    {
     "data": {
      "text/html": [
       "<html><script type=\"math/tex; mode=display\">\\newcommand{\\Bold}[1]{\\mathbf{#1}}\\left[\\left(2, \\left[\\left(1,\\,2,\\,1\\right)\\right], 1\\right), \\left(3, \\left[\\left(0,\\,1,\\,0\\right), \\left(0,\\,0,\\,1\\right)\\right], 2\\right)\\right]</script></html>"
      ],
      "text/plain": [
       "[(2, [\n",
       "  (1, 2, 1)\n",
       "  ], 1), (3, [\n",
       "  (0, 1, 0),\n",
       "  (0, 0, 1)\n",
       "  ], 2)]"
      ]
     },
     "execution_count": 14,
     "metadata": {},
     "output_type": "execute_result"
    }
   ],
   "source": [
    "M11 = Matrix(ZZ, 3, 3, [2,0,0, -2,3,0, -1,0,3])\n",
    "M11.eigenvectors_right()"
   ]
  },
  {
   "cell_type": "markdown",
   "metadata": {},
   "source": [
    "**Question 3,4,5**"
   ]
  },
  {
   "cell_type": "code",
   "execution_count": 15,
   "metadata": {},
   "outputs": [],
   "source": [
    "def R(theta):\n",
    "    return Matrix([[cos(theta), -sin(theta)], [sin(theta), cos(theta)]])"
   ]
  },
  {
   "cell_type": "code",
   "execution_count": 19,
   "metadata": {},
   "outputs": [],
   "source": [
    "T=(7/9)*R(pi/3)"
   ]
  },
  {
   "cell_type": "code",
   "execution_count": 20,
   "metadata": {},
   "outputs": [
    {
     "data": {
      "text/html": [
       "<html><script type=\"math/tex; mode=display\">\\newcommand{\\Bold}[1]{\\mathbf{#1}}\\left(\\begin{array}{rr}\n",
       "\\frac{7}{18} & -\\frac{7}{18} \\, \\sqrt{3} \\\\\n",
       "\\frac{7}{18} \\, \\sqrt{3} & \\frac{7}{18}\n",
       "\\end{array}\\right)</script></html>"
      ],
      "text/plain": [
       "[         7/18 -7/18*sqrt(3)]\n",
       "[ 7/18*sqrt(3)          7/18]"
      ]
     },
     "execution_count": 20,
     "metadata": {},
     "output_type": "execute_result"
    }
   ],
   "source": [
    "T"
   ]
  },
  {
   "cell_type": "code",
   "execution_count": 28,
   "metadata": {},
   "outputs": [],
   "source": [
    "points = ([T^i*vector([1,0]) for i in [0..10]])"
   ]
  },
  {
   "cell_type": "code",
   "execution_count": 29,
   "metadata": {},
   "outputs": [
    {
     "data": {
      "image/png": "[encoded data removed]",
      "text/plain": [
       "Graphics object consisting of 1 graphics primitive"
      ]
     },
     "execution_count": 29,
     "metadata": {},
     "output_type": "execute_result"
    }
   ],
   "source": [
    "point(points)"
   ]
  },
  {
   "cell_type": "markdown",
   "metadata": {},
   "source": [
    "**Question 6,7**"
   ]
  },
  {
   "cell_type": "code",
   "execution_count": 30,
   "metadata": {},
   "outputs": [
    {
     "data": {
      "text/html": [
       "<html><script type=\"math/tex; mode=display\">\\newcommand{\\Bold}[1]{\\mathbf{#1}}\\left[0, 1, 2, 3, 4, 5, 6\\right]</script></html>"
      ],
      "text/plain": [
       "[0, 1, 2, 3, 4, 5, 6]"
      ]
     },
     "execution_count": 30,
     "metadata": {},
     "output_type": "execute_result"
    }
   ],
   "source": [
    "[x for x in GF(7)]"
   ]
  },
  {
   "cell_type": "code",
   "execution_count": 33,
   "metadata": {},
   "outputs": [
    {
     "data": {
      "text/html": [
       "<html><script type=\"math/tex; mode=display\">\\newcommand{\\Bold}[1]{\\mathbf{#1}}7</script></html>"
      ],
      "text/plain": [
       "7"
      ]
     },
     "execution_count": 33,
     "metadata": {},
     "output_type": "execute_result"
    }
   ],
   "source": [
    "len((GF(7)^1).list())"
   ]
  },
  {
   "cell_type": "code",
   "execution_count": 34,
   "metadata": {},
   "outputs": [],
   "source": [
    "list = []\n",
    "for i in range(1,6):\n",
    "    size = len((GF(7)^i).list())\n",
    "    list.append(size)"
   ]
  },
  {
   "cell_type": "code",
   "execution_count": 35,
   "metadata": {},
   "outputs": [
    {
     "data": {
      "text/html": [
       "<html><script type=\"math/tex; mode=display\">\\newcommand{\\Bold}[1]{\\mathbf{#1}}\\left[7, 49, 343, 2401, 16807\\right]</script></html>"
      ],
      "text/plain": [
       "[7, 49, 343, 2401, 16807]"
      ]
     },
     "execution_count": 35,
     "metadata": {},
     "output_type": "execute_result"
    }
   ],
   "source": [
    "list"
   ]
  },
  {
   "cell_type": "code",
   "execution_count": null,
   "metadata": {},
   "outputs": [],
   "source": []
  }
 ],
 "metadata": {
  "kernelspec": {
   "display_name": "SageMath 8.8",
   "language": "sage",
   "name": "sagemath"
  },
  "language_info": {
   "codemirror_mode": {
    "name": "ipython",
    "version": 2
   },
   "file_extension": ".py",
   "mimetype": "text/x-python",
   "name": "python",
   "nbconvert_exporter": "python",
   "pygments_lexer": "ipython2",
   "version": "2.7.15"
  }
 },
 "nbformat": 4,
 "nbformat_minor": 2
}
